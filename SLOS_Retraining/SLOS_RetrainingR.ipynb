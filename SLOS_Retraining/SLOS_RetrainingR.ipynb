{
 "cells": [
  {
   "cell_type": "markdown",
   "id": "9fedba57-b852-4fbb-9893-436d9b4f42db",
   "metadata": {},
   "source": [
    "## Introduction\n",
    "This notebook provides an interactive environment for training a predictive model to estimate patient length of stay (LOS). This workflow is particularly suited for healthcare professionals and researchers interested in ICU resource planning and patient flow management.\n",
    "\n",
    "Users are only requested to change the code block indicated with "
   ]
  },
  {
   "cell_type": "code",
   "execution_count": null,
   "id": "33785ee3-f776-4bd2-8d25-c2fd15373daf",
   "metadata": {},
   "outputs": [],
   "source": [
    "### ‼️User Action Required"
   ]
  },
  {
   "cell_type": "markdown",
   "id": "43eacd5d-15f0-4b0b-85a8-fd1db43d9bcc",
   "metadata": {},
   "source": [
    "All the other blocks should work without interference.\n",
    "Warnings and notices are preceded by ⚠️"
   ]
  },
  {
   "cell_type": "markdown",
   "id": "18acc7ed-3243-4a11-b50d-b54a55877b87",
   "metadata": {},
   "source": [
    "### Package Installation\n",
    "This code checks for the presence of required R packages and installs them if they are not already available.\n",
    "These packages are essential for data preprocessing, model training, ensemble learning, and performance evaluation:\n",
    "- `caret`: Core package for building and tuning predictive models.\n",
    "- `caretEnsemble`: Allows combining multiple caret models into an ensemble for improved accuracy.\n",
    "- `tidyverse`: Collection of packages for data manipulation, visualization, and general workflow.\n",
    "- `MLmetrics`: Provides machine learning evaluation metrics (e.g., MAE, RMSE).\n",
    "- `ranger`: Fast implementation of Random Forests, useful for training tree-based models efficiently.\n",
    "\n",
    "⚠️ You only need to run this block once per session or when setting up a new environment.\n"
   ]
  },
  {
   "cell_type": "code",
   "execution_count": 1,
   "id": "cdde2db7-7b3b-44de-818e-63e158298e39",
   "metadata": {},
   "outputs": [
    {
     "name": "stderr",
     "output_type": "stream",
     "text": [
      "Carregando pacotes exigidos: caret\n",
      "\n",
      "Carregando pacotes exigidos: ggplot2\n",
      "\n",
      "Warning message:\n",
      "\"pacote 'ggplot2' foi compilado no R versão 4.4.2\"\n",
      "Carregando pacotes exigidos: lattice\n",
      "\n",
      "Carregando pacotes exigidos: caretEnsemble\n",
      "\n",
      "Carregando pacotes exigidos: tidyverse\n",
      "\n",
      "── \u001b[1mAttaching core tidyverse packages\u001b[22m ──────────────────────────────────────────────────────────────── tidyverse 2.0.0 ──\n",
      "\u001b[32m✔\u001b[39m \u001b[34mdplyr    \u001b[39m 1.1.4     \u001b[32m✔\u001b[39m \u001b[34mreadr    \u001b[39m 2.1.5\n",
      "\u001b[32m✔\u001b[39m \u001b[34mforcats  \u001b[39m 1.0.0     \u001b[32m✔\u001b[39m \u001b[34mstringr  \u001b[39m 1.5.1\n",
      "\u001b[32m✔\u001b[39m \u001b[34mlubridate\u001b[39m 1.9.3     \u001b[32m✔\u001b[39m \u001b[34mtibble   \u001b[39m 3.2.1\n",
      "\u001b[32m✔\u001b[39m \u001b[34mpurrr    \u001b[39m 1.0.2     \u001b[32m✔\u001b[39m \u001b[34mtidyr    \u001b[39m 1.3.1\n",
      "── \u001b[1mConflicts\u001b[22m ────────────────────────────────────────────────────────────────────────────────── tidyverse_conflicts() ──\n",
      "\u001b[31m✖\u001b[39m \u001b[34mdplyr\u001b[39m::\u001b[32mfilter()\u001b[39m masks \u001b[34mstats\u001b[39m::filter()\n",
      "\u001b[31m✖\u001b[39m \u001b[34mdplyr\u001b[39m::\u001b[32mlag()\u001b[39m    masks \u001b[34mstats\u001b[39m::lag()\n",
      "\u001b[31m✖\u001b[39m \u001b[34mpurrr\u001b[39m::\u001b[32mlift()\u001b[39m   masks \u001b[34mcaret\u001b[39m::lift()\n",
      "\u001b[36mℹ\u001b[39m Use the conflicted package (\u001b[3m\u001b[34m<http://conflicted.r-lib.org/>\u001b[39m\u001b[23m) to force all conflicts to become errors\n",
      "Carregando pacotes exigidos: MLmetrics\n",
      "\n",
      "\n",
      "Anexando pacote: 'MLmetrics'\n",
      "\n",
      "\n",
      "Os seguintes objetos são mascarados por 'package:caret':\n",
      "\n",
      "    MAE, RMSE\n",
      "\n",
      "\n",
      "O seguinte objeto é mascarado por 'package:base':\n",
      "\n",
      "    Recall\n",
      "\n",
      "\n",
      "Carregando pacotes exigidos: ranger\n",
      "\n",
      "Carregando pacotes exigidos: DescTools\n",
      "\n",
      "Warning message in library(package, lib.loc = lib.loc, character.only = TRUE, logical.return = TRUE, :\n",
      "\"não há nenhum pacote chamado 'DescTools'\"\n",
      "Instalando pacote em 'C:/Users/joana/AppData/Local/R/win-library/4.4'\n",
      "(como 'lib' não foi especificado)\n",
      "\n",
      "instalando as dependências 'rootSolve', 'lmom', 'expm', 'Exact', 'gld' também\n",
      "\n",
      "\n"
     ]
    },
    {
     "name": "stdout",
     "output_type": "stream",
     "text": [
      "pacote 'rootSolve' desempacotado com sucesso e somas MD5 verificadas\n",
      "pacote 'lmom' desempacotado com sucesso e somas MD5 verificadas\n",
      "pacote 'expm' desempacotado com sucesso e somas MD5 verificadas\n",
      "pacote 'Exact' desempacotado com sucesso e somas MD5 verificadas\n",
      "pacote 'gld' desempacotado com sucesso e somas MD5 verificadas\n",
      "pacote 'DescTools' desempacotado com sucesso e somas MD5 verificadas\n",
      "\n",
      "Os pacotes binários baixados estão em\n",
      "\tC:\\Users\\joana\\AppData\\Local\\Temp\\RtmpigiNqe\\downloaded_packages\n"
     ]
    },
    {
     "name": "stderr",
     "output_type": "stream",
     "text": [
      "Warning message:\n",
      "\"pacote 'DescTools' foi compilado no R versão 4.4.3\"\n",
      "\n",
      "Anexando pacote: 'DescTools'\n",
      "\n",
      "\n",
      "Os seguintes objetos são mascarados por 'package:MLmetrics':\n",
      "\n",
      "    AUC, Gini, MAE, MAPE, MSE, RMSE\n",
      "\n",
      "\n",
      "Os seguintes objetos são mascarados por 'package:caret':\n",
      "\n",
      "    MAE, RMSE\n",
      "\n",
      "\n",
      "Carregando pacotes exigidos: mice\n",
      "\n",
      "Warning message in library(package, lib.loc = lib.loc, character.only = TRUE, logical.return = TRUE, :\n",
      "\"não há nenhum pacote chamado 'mice'\"\n",
      "Instalando pacote em 'C:/Users/joana/AppData/Local/R/win-library/4.4'\n",
      "(como 'lib' não foi especificado)\n",
      "\n",
      "instalando as dependências 'ucminf', 'ordinal', 'pan', 'jomo', 'glmnet', 'mitml' também\n",
      "\n",
      "\n"
     ]
    },
    {
     "name": "stdout",
     "output_type": "stream",
     "text": [
      "\n",
      "  Existe uma versão binária disponível, mas a versão de código-fonte é\n",
      "  posterior:\n",
      "       binary source needs_compilation\n",
      "glmnet  4.1-8  4.1-9              TRUE\n",
      "\n",
      "pacote 'ucminf' desempacotado com sucesso e somas MD5 verificadas\n",
      "pacote 'ordinal' desempacotado com sucesso e somas MD5 verificadas\n",
      "pacote 'pan' desempacotado com sucesso e somas MD5 verificadas\n",
      "pacote 'jomo' desempacotado com sucesso e somas MD5 verificadas\n",
      "pacote 'mitml' desempacotado com sucesso e somas MD5 verificadas\n",
      "pacote 'mice' desempacotado com sucesso e somas MD5 verificadas\n",
      "\n",
      "Os pacotes binários baixados estão em\n",
      "\tC:\\Users\\joana\\AppData\\Local\\Temp\\RtmpigiNqe\\downloaded_packages\n"
     ]
    },
    {
     "name": "stderr",
     "output_type": "stream",
     "text": [
      "instalando o pacote de código-fonte 'glmnet'\n",
      "\n",
      "\n",
      "Warning message:\n",
      "\"pacote 'mice' foi compilado no R versão 4.4.3\"\n",
      "\n",
      "Anexando pacote: 'mice'\n",
      "\n",
      "\n",
      "O seguinte objeto é mascarado por 'package:stats':\n",
      "\n",
      "    filter\n",
      "\n",
      "\n",
      "Os seguintes objetos são mascarados por 'package:base':\n",
      "\n",
      "    cbind, rbind\n",
      "\n",
      "\n"
     ]
    }
   ],
   "source": [
    "if (!require(\"caret\")) {install.packages(\"caret\", dependencies = TRUE) ; library(caret)}\n",
    "if (!require(\"caretEnsemble\")) {install.packages(\"caretEnsemble\", dependencies = TRUE) ; library(caretEnsemble)}\n",
    "if (!require(\"tidyverse\")) {install.packages(\"tidyverse\") ; library(tidyverse)}\n",
    "if (!require(\"MLmetrics\")) {install.packages(\"MLmetrics\") ; library(MLmetrics)}\n",
    "if (!require(\"ranger\")) {install.packages(\"ranger\"); library(ranger) }\n",
    "if(!require(DescTools)) {install.packages(\"DescTools\"); library(DescTools) }\n",
    "if(!require(mice)) {install.packages(\"mice\"); library(mice) }"
   ]
  },
  {
   "cell_type": "markdown",
   "id": "a13099dc-a724-460b-9050-0168f3264fae",
   "metadata": {},
   "source": [
    "### Load and Validate User Dataset\n",
    "\n",
    "1. Please change the `data_path` the **path to the data** you want to train the model on. It can be in `.csv` or `.RData` format. If it's an `R.Data` file, please include the object name in the `object_name` variable.\n",
    "\n",
    "2. If you want to include your **own predictors**, please change the `predictors` variable to include your a dataframe with one column stating the names of your predictors.\n",
    "\n",
    "If not, the the list of predictor variables used during the original model training is automatically loaded.\n",
    "\n",
    "⚠️ If not using your own predictors, make sure your dataset includes all required predictors listed in predictors.csv, as well as the target variable UnitLengthStay_trunc."
   ]
  },
  {
   "cell_type": "code",
   "execution_count": 12,
   "id": "4e88ef48-e5c8-474c-8431-d290622fa12f",
   "metadata": {},
   "outputs": [],
   "source": [
    "### ‼️User Action Required\n",
    "\n",
    "#data_path = \"YOUR_PATH\"\n",
    "data_path = \"C:\\\\Users\\\\joana\\\\Documentos\\\\SLOS\\\\SLOS retraining\\\\SampledData.RData\"\n",
    "object_name = \"sampled_data\"\n",
    "predictors = \"C:\\\\Users\\\\joana\\\\Documentos\\\\SLOS\\\\SLOS retraining\\\\predictors.csv\""
   ]
  },
  {
   "cell_type": "code",
   "execution_count": 13,
   "id": "4db24c38-0e90-45fd-afc9-dbd67f5de4ae",
   "metadata": {},
   "outputs": [],
   "source": [
    "if (grepl(\"\\\\.csv$\", data_path, ignore.case = TRUE)) {\n",
    "  user_data <- read.csv(data_path)\n",
    "} else if (grepl(\"\\\\.RData$\", data_path, ignore.case = TRUE)) {\n",
    "  load(data_path)\n",
    "  if (!exists(object_name)) {\n",
    "    stop(paste(\"The .RData file does not contain an object named\", object_name))\n",
    "  }\n",
    "  user_data <- get(object_name)\n",
    "} else {\n",
    "  stop(\"Unsupported file type. Please upload a .csv or .RData file.\")\n",
    "}\n",
    "\n",
    "predictors <- read.csv(predictors)\n",
    "predictors <- predictors[,2]  \n",
    "\n",
    "if (!all(predictors %in% names(user_data))) {\n",
    "  stop(\"Some required predictors are missing in your dataset.\")\n",
    "}\n",
    "\n",
    "user_data <- user_data %>%\n",
    "  select(all_of(predictors), UnitLengthStay_trunc)"
   ]
  },
  {
   "cell_type": "code",
   "execution_count": 65,
   "id": "4052822f-38c6-463b-a70b-e2d0efd37091",
   "metadata": {},
   "outputs": [
    {
     "data": {
      "text/html": [
       "<style>\n",
       ".list-inline {list-style: none; margin:0; padding: 0}\n",
       ".list-inline>li {display: inline-block}\n",
       ".list-inline>li:not(:last-child)::after {content: \"\\00b7\"; padding: 0 .5ex}\n",
       "</style>\n",
       "<ol class=list-inline><li>Medical</li><li>Scheduled surgery</li><li>Emergency surgery</li></ol>\n",
       "\n",
       "<details>\n",
       "\t<summary style=display:list-item;cursor:pointer>\n",
       "\t\t<strong>Levels</strong>:\n",
       "\t</summary>\n",
       "\t<style>\n",
       "\t.list-inline {list-style: none; margin:0; padding: 0}\n",
       "\t.list-inline>li {display: inline-block}\n",
       "\t.list-inline>li:not(:last-child)::after {content: \"\\00b7\"; padding: 0 .5ex}\n",
       "\t</style>\n",
       "\t<ol class=list-inline><li>'Emergency surgery'</li><li>'Medical'</li><li>'Scheduled surgery'</li><li>'Surgical'</li></ol>\n",
       "</details>"
      ],
      "text/latex": [
       "\\begin{enumerate*}\n",
       "\\item Medical\n",
       "\\item Scheduled surgery\n",
       "\\item Emergency surgery\n",
       "\\end{enumerate*}\n",
       "\n",
       "\\emph{Levels}: \\begin{enumerate*}\n",
       "\\item 'Emergency surgery'\n",
       "\\item 'Medical'\n",
       "\\item 'Scheduled surgery'\n",
       "\\item 'Surgical'\n",
       "\\end{enumerate*}\n"
      ],
      "text/markdown": [
       "1. Medical\n",
       "2. Scheduled surgery\n",
       "3. Emergency surgery\n",
       "\n",
       "\n",
       "\n",
       "**Levels**: 1. 'Emergency surgery'\n",
       "2. 'Medical'\n",
       "3. 'Scheduled surgery'\n",
       "4. 'Surgical'\n",
       "\n",
       "\n"
      ],
      "text/plain": [
       "[1] Medical           Scheduled surgery Emergency surgery\n",
       "Levels: Emergency surgery Medical Scheduled surgery Surgical"
      ]
     },
     "metadata": {},
     "output_type": "display_data"
    }
   ],
   "source": [
    "unique(testing$AdmissionTypeName)"
   ]
  },
  {
   "cell_type": "markdown",
   "id": "c4a86d61-3976-4a95-aa74-9e5fa06e6459",
   "metadata": {},
   "source": [
    "### Data Pre-processing\n",
    "We remove zero and near-zero variance features, correlated predictors (for numeric and categorical features) and we impute missing data via the MICE algortihm"
   ]
  },
  {
   "cell_type": "code",
   "execution_count": 67,
   "id": "b3152449-4f80-438a-ad45-8a1fdcc690c2",
   "metadata": {},
   "outputs": [
    {
     "name": "stdout",
     "output_type": "stream",
     "text": [
      "\n",
      " iter imp variable\n",
      "  1   1\n",
      "  2   1\n",
      "  3   1\n",
      "  4   1\n",
      "  5   1\n"
     ]
    },
    {
     "data": {
      "text/plain": [
       " IsMechanicalVentilation IsVasopressors\n",
       " 0:776                   0:764         \n",
       " 1: 24                   1: 36         \n",
       "                                       \n",
       "                                       \n",
       "                                       \n",
       "                                       \n",
       "                       AdmissionSourceName         AdmissionTypeName\n",
       " Cardiovascular intervention room: 18      Emergency surgery: 44    \n",
       " Emergency room                  :553      Medical          :676    \n",
       " Operating room                  : 81      Scheduled surgery: 79    \n",
       " Other                           : 37      Surgical         :  1    \n",
       " Other unit at your hospital     : 76                               \n",
       " Ward/Floor                      : 35                               \n",
       " IsNonInvasiveVentilation IsRespiratoryFailure IsDementia    ChfNyha    Gender \n",
       " 0:748                    0:764                0:734      Class23: 40   F:453  \n",
       " 1: 52                    1: 36                1: 66      Class4 : 12   M:347  \n",
       "                                                          No     :748   U:  0  \n",
       "                                                                               \n",
       "                                                                               \n",
       "                                                                               \n",
       " IsAcuteKidneyInjury IsAngina IsArterialHypertension IsAsthma\n",
       " 0:768               0:702    0:362                  0:770   \n",
       " 1: 32               1: 98    1:438                  1: 30   \n",
       "                                                             \n",
       "                                                             \n",
       "                                                             \n",
       "                                                             \n",
       " IsCardiacArrhythmia IsChemotherapy IsChronicAtrialFibrilation        IsCrf    \n",
       " 0:764               0:771          0:751                      Dialysis  : 23  \n",
       " 1: 36               1: 29          1: 49                      No        :740  \n",
       "                                                               NoDialysis: 37  \n",
       "                                                                               \n",
       "                                                                               \n",
       "                                                                               \n",
       " UnitLengthStay   \n",
       " Min.   : 0.3111  \n",
       " 1st Qu.: 1.7477  \n",
       " Median : 2.9219  \n",
       " Mean   : 4.4130  \n",
       " 3rd Qu.: 5.0559  \n",
       " Max.   :21.0000  "
      ]
     },
     "metadata": {},
     "output_type": "display_data"
    },
    {
     "name": "stdout",
     "output_type": "stream",
     "text": [
      "\n",
      " iter imp variable\n",
      "  1   1\n",
      "  2   1\n",
      "  3   1\n",
      "  4   1\n",
      "  5   1\n"
     ]
    },
    {
     "data": {
      "text/plain": [
       " IsMechanicalVentilation IsVasopressors\n",
       " 0:192                   0:192         \n",
       " 1:  8                   1:  8         \n",
       "                                       \n",
       "                                       \n",
       "                                       \n",
       "                                       \n",
       "                       AdmissionSourceName         AdmissionTypeName\n",
       " Cardiovascular intervention room:  5      Emergency surgery:  6    \n",
       " Emergency room                  :143      Medical          :169    \n",
       " Operating room                  : 17      Scheduled surgery: 25    \n",
       " Other                           :  6      Surgical         :  0    \n",
       " Other unit at your hospital     : 23                               \n",
       " Ward/Floor                      :  6                               \n",
       " IsNonInvasiveVentilation IsRespiratoryFailure IsDementia    ChfNyha    Gender \n",
       " 0:186                    0:192                0:183      Class23: 13   F: 94  \n",
       " 1: 14                    1:  8                1: 17      Class4 :  3   M:106  \n",
       "                                                          No     :184   U:  0  \n",
       "                                                                               \n",
       "                                                                               \n",
       "                                                                               \n",
       " IsAcuteKidneyInjury IsAngina IsArterialHypertension IsAsthma\n",
       " 0:193               0:178    0: 84                  0:193   \n",
       " 1:  7               1: 22    1:116                  1:  7   \n",
       "                                                             \n",
       "                                                             \n",
       "                                                             \n",
       "                                                             \n",
       " IsCardiacArrhythmia IsChemotherapy IsChronicAtrialFibrilation        IsCrf    \n",
       " 0:187               0:192          0:189                      Dialysis  :  8  \n",
       " 1: 13               1:  8          1: 11                      No        :179  \n",
       "                                                               NoDialysis: 13  \n",
       "                                                                               \n",
       "                                                                               \n",
       "                                                                               \n",
       " UnitLengthStay   \n",
       " Min.   : 0.3438  \n",
       " 1st Qu.: 1.7465  \n",
       " Median : 2.9153  \n",
       " Mean   : 4.3036  \n",
       " 3rd Qu.: 5.0995  \n",
       " Max.   :21.0000  "
      ]
     },
     "metadata": {},
     "output_type": "display_data"
    }
   ],
   "source": [
    "set.seed(998)\n",
    "inTraining <- createDataPartition(user_data$UnitLengthStay,\n",
    "                                  p = .8, list = FALSE)\n",
    "training <- user_data[ inTraining,]\n",
    "training_dummy <- training\n",
    "testing  <- user_data[-inTraining,]\n",
    "testing_dummy <- testing\n",
    "\n",
    "#Identifying and Removing Zero and Near Zero variance features\n",
    "nzv = nearZeroVar(training, saveMetrics = T, freqCut = 100/2)\n",
    "nzv[\"Variaveis\"] = row.names(nzv)\n",
    "descritiva_nzv = nzv%>%\n",
    "  filter(nzv==T)%>%\n",
    "  select(Variaveis,freqRatio,percentUnique)\n",
    "retirados_nzv = descritiva_nzv$Variaveis\n",
    "\n",
    "training = training %>%\n",
    "  select(.,-retirados_nzv)\n",
    "testing = testing %>%\n",
    "  select(.,-retirados_nzv)\n",
    "\n",
    "# Identifying and Removing Correlated Predictors (for numeric features)\n",
    "training_pre_numeric = training %>%\n",
    "  select_if(., is.numeric)\n",
    "training_pre_numeric$UnitLengthStay = NULL\n",
    "descrCor <-  cor(training_pre_numeric, \n",
    "                 use=\"pairwise.complete.obs\")\n",
    "\n",
    "highlyCorDescr <- findCorrelation(descrCor, cutoff = .75)\n",
    "retirados_cor = colnames(training_pre_numeric[,highlyCorDescr])\n",
    "training_pre_numeric = \n",
    "  training_pre_numeric[,-highlyCorDescr]\n",
    "\n",
    "testing_pre_numeric = testing %>%\n",
    "  select_if(., is.numeric)\n",
    "testing_pre_numeric$UnitLengthStay = NULL\n",
    "testing_pre_numeric = \n",
    "  testing_pre_numeric[,-highlyCorDescr]\n",
    "\n",
    "\n",
    "# Identifying and Removing Correlated Predictors (for categorical features)\n",
    "training_pre_factor = training %>%\n",
    "  select_if(., is.factor)\n",
    "cramer_tab = PairApply(training_pre_factor,\n",
    "                       CramerV, symmetric = TRUE)\n",
    "cramer_tab[which(is.na(cramer_tab[,])==T)] = 0\n",
    "\n",
    "highlyCorCateg <- findCorrelation(cramer_tab, cutoff = 0.5)\n",
    "retirados_categ = colnames(training_pre_factor[,highlyCorCateg])\n",
    "training_pre_factor = training_pre_factor %>%\n",
    "  select(.,-retirados_categ)\n",
    "\n",
    "testing_pre_factor = testing %>%\n",
    "  select_if(., is.factor)\n",
    "testing_pre_factor = testing_pre_factor %>%\n",
    "  select(.,-retirados_categ)\n",
    "\n",
    "training = cbind(training_pre_numeric,training_pre_factor, training$UnitLengthStay)\n",
    "training$UnitLengthStay = training$`training$UnitLengthStay`\n",
    "training$`training$UnitLengthStay` = NULL\n",
    "\n",
    "testing = cbind(testing_pre_numeric,testing_pre_factor, testing$UnitLengthStay)\n",
    "testing$UnitLengthStay = testing$`testing$UnitLengthStay`\n",
    "testing$`testing$UnitLengthStay` = NULL\n",
    "\n",
    "\n",
    "#MICE Imputation\n",
    "training_imp = training\n",
    "testing_imp = testing\n",
    "\n",
    "  #training\n",
    "set.seed(100)\n",
    "predictormatrix = quickpred(training_imp,\n",
    "                          include = c(\"UnitLengthStay\"),\n",
    "                          exclude = NULL,\n",
    "                          mincor = 0.3)\n",
    "imp_gen = mice(data = training_imp,\n",
    "               predictorMatrix = predictormatrix,\n",
    "               m=1,\n",
    "               maxit = 5,\n",
    "               diagnostics=TRUE)\n",
    "\n",
    "imp_data = mice::complete(imp_gen,1)\n",
    "training_imp = imp_data\n",
    "summary(training_imp)\n",
    "training_imp$UnitLengthStay_trunc <- training_dummy$UnitLengthStay_trunc\n",
    "training <- training_imp\n",
    "\n",
    "\n",
    "  #testing\n",
    "set.seed(100)\n",
    "predictormatrix = quickpred(testing_imp,\n",
    "                            include = c(\"UnitLengthStay\"),\n",
    "                            exclude = NULL,\n",
    "                            mincor = 0.3)\n",
    "imp_gen_test = mice(data = testing_imp,\n",
    "               predictorMatrix = predictormatrix,\n",
    "               m=1,\n",
    "               maxit = 5,\n",
    "               diagnostics=TRUE)\n",
    "imp_data_test = mice::complete(imp_gen_test,1)\n",
    "testing_imp = imp_data_test\n",
    "summary(testing_imp)\n",
    "testing_imp$UnitLengthStay_trunc <- testing_dummy$UnitLengthStay_trunc\n",
    "testing <- testing_imp"
   ]
  },
  {
   "cell_type": "markdown",
   "id": "c439828e-b77f-4e8e-8e50-d4c9665a78ff",
   "metadata": {},
   "source": [
    "### Model Traning\n",
    "This section covers the full training pipeline, from splitting the data to building an ensemble model using caretStack.\n",
    "\n",
    "**Steps**:\n",
    "1. **Train-Test Split**\n",
    "\n",
    "- A reproducible 80/20 split is created using createDataPartition().\n",
    "\n",
    "2. **Cross-Validation Setup**\n",
    "\n",
    "- `trainControl()` defines a 5-fold cross-validation strategy with progress output (verboseIter) and final model predictions retained (savePredictions = \"final\")\n",
    "\n",
    "3. **Model Training with caretList**\n",
    "\n",
    "- Two base models are trained using caretList(): Linear regression (lm) and Random Forest (ranger) with a tuning grid for mtry, splitrule, and min.node.size. These models are stored in model_list and saved as \"user_model_list.RData\".\n",
    "\n",
    "4. **Model Stacking with caretStack**\n",
    "\n",
    "- A stacked ensemble model is built from the base learners using caretStack(). A secondary Random Forest model (with its own tuning grid) is used to combine the predictions. The final stacked model is saved as \"user_trained_SLOS_model.RData\".\n",
    "\n",
    "This ensures both the individual models and the stacked model can be reused or deployed later.\n",
    "\n"
   ]
  },
  {
   "cell_type": "code",
   "execution_count": 46,
   "id": "749268c8-cc24-4935-aee5-99e91d1d5b16",
   "metadata": {},
   "outputs": [],
   "source": [
    "fitControl <- trainControl(\n",
    "  method = \"cv\", \n",
    "  number = 5, \n",
    "  verboseIter = TRUE, \n",
    "  returnData = FALSE,\n",
    "  trim = TRUE,\n",
    "  savePredictions = \"final\"\n",
    ")"
   ]
  },
  {
   "cell_type": "code",
   "execution_count": 47,
   "id": "c06d0db2-29de-49cf-9871-9802acd9efb8",
   "metadata": {},
   "outputs": [
    {
     "name": "stdout",
     "output_type": "stream",
     "text": [
      "+ Fold1: intercept=TRUE \n",
      "- Fold1: intercept=TRUE \n",
      "+ Fold2: intercept=TRUE \n",
      "predictions failed for Fold2: intercept=TRUE Error in model.frame.default(Terms, newdata, na.action = na.action, xlev = object$xlevels) : \n",
      "  fator 'AdmissionTypeName' tem novos níveis Surgical\n",
      " \n"
     ]
    },
    {
     "name": "stderr",
     "output_type": "stream",
     "text": [
      "Warning message:\n",
      "\"predictions failed for Fold2: intercept=TRUE Error in model.frame.default(Terms, newdata, na.action = na.action, xlev = object$xlevels) : \n",
      "  fator 'AdmissionTypeName' tem novos níveis Surgical\n",
      "\"\n"
     ]
    },
    {
     "name": "stdout",
     "output_type": "stream",
     "text": [
      "- Fold2: intercept=TRUE \n",
      "+ Fold3: intercept=TRUE \n",
      "- Fold3: intercept=TRUE \n",
      "+ Fold4: intercept=TRUE \n",
      "- Fold4: intercept=TRUE \n",
      "+ Fold5: intercept=TRUE \n",
      "- Fold5: intercept=TRUE \n"
     ]
    },
    {
     "name": "stderr",
     "output_type": "stream",
     "text": [
      "Warning message in nominalTrainWorkflow(x = x, y = y, wts = weights, info = trainInfo, :\n",
      "\"There were missing values in resampled performance measures.\"\n"
     ]
    },
    {
     "name": "stdout",
     "output_type": "stream",
     "text": [
      "Aggregating results\n",
      "Fitting final model on full training set\n",
      "+ Fold1: mtry= 5, splitrule=variance, min.node.size=5 \n",
      "- Fold1: mtry= 5, splitrule=variance, min.node.size=5 \n",
      "+ Fold1: mtry= 6, splitrule=variance, min.node.size=5 \n",
      "- Fold1: mtry= 6, splitrule=variance, min.node.size=5 \n",
      "+ Fold1: mtry= 7, splitrule=variance, min.node.size=5 \n",
      "- Fold1: mtry= 7, splitrule=variance, min.node.size=5 \n",
      "+ Fold1: mtry= 8, splitrule=variance, min.node.size=5 \n",
      "- Fold1: mtry= 8, splitrule=variance, min.node.size=5 \n",
      "+ Fold1: mtry= 9, splitrule=variance, min.node.size=5 \n",
      "- Fold1: mtry= 9, splitrule=variance, min.node.size=5 \n",
      "+ Fold1: mtry=10, splitrule=variance, min.node.size=5 \n",
      "- Fold1: mtry=10, splitrule=variance, min.node.size=5 \n",
      "+ Fold2: mtry= 5, splitrule=variance, min.node.size=5 \n",
      "- Fold2: mtry= 5, splitrule=variance, min.node.size=5 \n",
      "+ Fold2: mtry= 6, splitrule=variance, min.node.size=5 \n",
      "- Fold2: mtry= 6, splitrule=variance, min.node.size=5 \n",
      "+ Fold2: mtry= 7, splitrule=variance, min.node.size=5 \n",
      "- Fold2: mtry= 7, splitrule=variance, min.node.size=5 \n",
      "+ Fold2: mtry= 8, splitrule=variance, min.node.size=5 \n",
      "- Fold2: mtry= 8, splitrule=variance, min.node.size=5 \n",
      "+ Fold2: mtry= 9, splitrule=variance, min.node.size=5 \n",
      "- Fold2: mtry= 9, splitrule=variance, min.node.size=5 \n",
      "+ Fold2: mtry=10, splitrule=variance, min.node.size=5 \n",
      "- Fold2: mtry=10, splitrule=variance, min.node.size=5 \n",
      "+ Fold3: mtry= 5, splitrule=variance, min.node.size=5 \n",
      "- Fold3: mtry= 5, splitrule=variance, min.node.size=5 \n",
      "+ Fold3: mtry= 6, splitrule=variance, min.node.size=5 \n",
      "- Fold3: mtry= 6, splitrule=variance, min.node.size=5 \n",
      "+ Fold3: mtry= 7, splitrule=variance, min.node.size=5 \n",
      "- Fold3: mtry= 7, splitrule=variance, min.node.size=5 \n",
      "+ Fold3: mtry= 8, splitrule=variance, min.node.size=5 \n",
      "- Fold3: mtry= 8, splitrule=variance, min.node.size=5 \n",
      "+ Fold3: mtry= 9, splitrule=variance, min.node.size=5 \n",
      "- Fold3: mtry= 9, splitrule=variance, min.node.size=5 \n",
      "+ Fold3: mtry=10, splitrule=variance, min.node.size=5 \n",
      "- Fold3: mtry=10, splitrule=variance, min.node.size=5 \n",
      "+ Fold4: mtry= 5, splitrule=variance, min.node.size=5 \n",
      "- Fold4: mtry= 5, splitrule=variance, min.node.size=5 \n",
      "+ Fold4: mtry= 6, splitrule=variance, min.node.size=5 \n",
      "- Fold4: mtry= 6, splitrule=variance, min.node.size=5 \n",
      "+ Fold4: mtry= 7, splitrule=variance, min.node.size=5 \n",
      "- Fold4: mtry= 7, splitrule=variance, min.node.size=5 \n",
      "+ Fold4: mtry= 8, splitrule=variance, min.node.size=5 \n",
      "- Fold4: mtry= 8, splitrule=variance, min.node.size=5 \n",
      "+ Fold4: mtry= 9, splitrule=variance, min.node.size=5 \n",
      "- Fold4: mtry= 9, splitrule=variance, min.node.size=5 \n",
      "+ Fold4: mtry=10, splitrule=variance, min.node.size=5 \n",
      "- Fold4: mtry=10, splitrule=variance, min.node.size=5 \n",
      "+ Fold5: mtry= 5, splitrule=variance, min.node.size=5 \n",
      "- Fold5: mtry= 5, splitrule=variance, min.node.size=5 \n",
      "+ Fold5: mtry= 6, splitrule=variance, min.node.size=5 \n",
      "- Fold5: mtry= 6, splitrule=variance, min.node.size=5 \n",
      "+ Fold5: mtry= 7, splitrule=variance, min.node.size=5 \n",
      "- Fold5: mtry= 7, splitrule=variance, min.node.size=5 \n",
      "+ Fold5: mtry= 8, splitrule=variance, min.node.size=5 \n",
      "- Fold5: mtry= 8, splitrule=variance, min.node.size=5 \n",
      "+ Fold5: mtry= 9, splitrule=variance, min.node.size=5 \n",
      "- Fold5: mtry= 9, splitrule=variance, min.node.size=5 \n",
      "+ Fold5: mtry=10, splitrule=variance, min.node.size=5 \n",
      "- Fold5: mtry=10, splitrule=variance, min.node.size=5 \n",
      "Aggregating results\n",
      "Selecting tuning parameters\n",
      "Fitting mtry = 10, splitrule = variance, min.node.size = 5 on full training set\n"
     ]
    }
   ],
   "source": [
    "model_list <- caretList(\n",
    "  x = training[, -ncol(training)],\n",
    "  y = training$UnitLengthStay_trunc,\n",
    "  trControl = fitControl,\n",
    "  metric = \"RMSE\",\n",
    "  tuneList = list(\n",
    "    lm = caretModelSpec(method = \"lm\"),\n",
    "    rf = caretModelSpec(method = \"ranger\", tuneGrid = data.frame(\n",
    "      .mtry = c(5:10),\n",
    "      .splitrule = \"variance\",\n",
    "      .min.node.size = 5\n",
    "    ))\n",
    "  )\n",
    ")\n",
    "\n",
    "save(model_list, file = \"user_model_list.RData\")"
   ]
  },
  {
   "cell_type": "code",
   "execution_count": 48,
   "id": "04e55016-11e1-445b-ae5d-9081a919c2f8",
   "metadata": {},
   "outputs": [
    {
     "name": "stdout",
     "output_type": "stream",
     "text": [
      "+ Fold1: mtry=2, min.node.size= 5, splitrule=variance \n",
      "model fit failed for Fold1: mtry=2, min.node.size= 5, splitrule=variance Error : Missing data in columns: lm.\n",
      " \n"
     ]
    },
    {
     "name": "stderr",
     "output_type": "stream",
     "text": [
      "Warning message:\n",
      "\"model fit failed for Fold1: mtry=2, min.node.size= 5, splitrule=variance Error : Missing data in columns: lm.\n",
      "\"\n"
     ]
    },
    {
     "name": "stdout",
     "output_type": "stream",
     "text": [
      "- Fold1: mtry=2, min.node.size= 5, splitrule=variance \n",
      "+ Fold1: mtry=2, min.node.size=10, splitrule=variance \n",
      "model fit failed for Fold1: mtry=2, min.node.size=10, splitrule=variance Error : Missing data in columns: lm.\n",
      " \n"
     ]
    },
    {
     "name": "stderr",
     "output_type": "stream",
     "text": [
      "Warning message:\n",
      "\"model fit failed for Fold1: mtry=2, min.node.size=10, splitrule=variance Error : Missing data in columns: lm.\n",
      "\"\n"
     ]
    },
    {
     "name": "stdout",
     "output_type": "stream",
     "text": [
      "- Fold1: mtry=2, min.node.size=10, splitrule=variance \n",
      "+ Fold1: mtry=2, min.node.size=15, splitrule=variance \n",
      "model fit failed for Fold1: mtry=2, min.node.size=15, splitrule=variance Error : Missing data in columns: lm.\n",
      " \n"
     ]
    },
    {
     "name": "stderr",
     "output_type": "stream",
     "text": [
      "Warning message:\n",
      "\"model fit failed for Fold1: mtry=2, min.node.size=15, splitrule=variance Error : Missing data in columns: lm.\n",
      "\"\n"
     ]
    },
    {
     "name": "stdout",
     "output_type": "stream",
     "text": [
      "- Fold1: mtry=2, min.node.size=15, splitrule=variance \n",
      "+ Fold1: mtry=2, min.node.size=20, splitrule=variance \n",
      "model fit failed for Fold1: mtry=2, min.node.size=20, splitrule=variance Error : Missing data in columns: lm.\n",
      " \n"
     ]
    },
    {
     "name": "stderr",
     "output_type": "stream",
     "text": [
      "Warning message:\n",
      "\"model fit failed for Fold1: mtry=2, min.node.size=20, splitrule=variance Error : Missing data in columns: lm.\n",
      "\"\n"
     ]
    },
    {
     "name": "stdout",
     "output_type": "stream",
     "text": [
      "- Fold1: mtry=2, min.node.size=20, splitrule=variance \n",
      "+ Fold1: mtry=2, min.node.size= 5, splitrule=extratrees \n",
      "model fit failed for Fold1: mtry=2, min.node.size= 5, splitrule=extratrees Error : Missing data in columns: lm.\n",
      " \n"
     ]
    },
    {
     "name": "stderr",
     "output_type": "stream",
     "text": [
      "Warning message:\n",
      "\"model fit failed for Fold1: mtry=2, min.node.size= 5, splitrule=extratrees Error : Missing data in columns: lm.\n",
      "\"\n"
     ]
    },
    {
     "name": "stdout",
     "output_type": "stream",
     "text": [
      "- Fold1: mtry=2, min.node.size= 5, splitrule=extratrees \n",
      "+ Fold1: mtry=2, min.node.size=10, splitrule=extratrees \n",
      "model fit failed for Fold1: mtry=2, min.node.size=10, splitrule=extratrees Error : Missing data in columns: lm.\n",
      " \n"
     ]
    },
    {
     "name": "stderr",
     "output_type": "stream",
     "text": [
      "Warning message:\n",
      "\"model fit failed for Fold1: mtry=2, min.node.size=10, splitrule=extratrees Error : Missing data in columns: lm.\n",
      "\"\n"
     ]
    },
    {
     "name": "stdout",
     "output_type": "stream",
     "text": [
      "- Fold1: mtry=2, min.node.size=10, splitrule=extratrees \n",
      "+ Fold1: mtry=2, min.node.size=15, splitrule=extratrees \n",
      "model fit failed for Fold1: mtry=2, min.node.size=15, splitrule=extratrees Error : Missing data in columns: lm.\n",
      " \n"
     ]
    },
    {
     "name": "stderr",
     "output_type": "stream",
     "text": [
      "Warning message:\n",
      "\"model fit failed for Fold1: mtry=2, min.node.size=15, splitrule=extratrees Error : Missing data in columns: lm.\n",
      "\"\n"
     ]
    },
    {
     "name": "stdout",
     "output_type": "stream",
     "text": [
      "- Fold1: mtry=2, min.node.size=15, splitrule=extratrees \n",
      "+ Fold1: mtry=2, min.node.size=20, splitrule=extratrees \n",
      "model fit failed for Fold1: mtry=2, min.node.size=20, splitrule=extratrees Error : Missing data in columns: lm.\n",
      " \n"
     ]
    },
    {
     "name": "stderr",
     "output_type": "stream",
     "text": [
      "Warning message:\n",
      "\"model fit failed for Fold1: mtry=2, min.node.size=20, splitrule=extratrees Error : Missing data in columns: lm.\n",
      "\"\n"
     ]
    },
    {
     "name": "stdout",
     "output_type": "stream",
     "text": [
      "- Fold1: mtry=2, min.node.size=20, splitrule=extratrees \n",
      "+ Fold1: mtry=2, min.node.size= 5, splitrule=maxstat \n",
      "model fit failed for Fold1: mtry=2, min.node.size= 5, splitrule=maxstat Error : Missing data in columns: lm.\n",
      " \n"
     ]
    },
    {
     "name": "stderr",
     "output_type": "stream",
     "text": [
      "Warning message:\n",
      "\"model fit failed for Fold1: mtry=2, min.node.size= 5, splitrule=maxstat Error : Missing data in columns: lm.\n",
      "\"\n"
     ]
    },
    {
     "name": "stdout",
     "output_type": "stream",
     "text": [
      "- Fold1: mtry=2, min.node.size= 5, splitrule=maxstat \n",
      "+ Fold1: mtry=2, min.node.size=10, splitrule=maxstat \n",
      "model fit failed for Fold1: mtry=2, min.node.size=10, splitrule=maxstat Error : Missing data in columns: lm.\n",
      " \n"
     ]
    },
    {
     "name": "stderr",
     "output_type": "stream",
     "text": [
      "Warning message:\n",
      "\"model fit failed for Fold1: mtry=2, min.node.size=10, splitrule=maxstat Error : Missing data in columns: lm.\n",
      "\"\n"
     ]
    },
    {
     "name": "stdout",
     "output_type": "stream",
     "text": [
      "- Fold1: mtry=2, min.node.size=10, splitrule=maxstat \n",
      "+ Fold1: mtry=2, min.node.size=15, splitrule=maxstat \n",
      "model fit failed for Fold1: mtry=2, min.node.size=15, splitrule=maxstat Error : Missing data in columns: lm.\n",
      " \n"
     ]
    },
    {
     "name": "stderr",
     "output_type": "stream",
     "text": [
      "Warning message:\n",
      "\"model fit failed for Fold1: mtry=2, min.node.size=15, splitrule=maxstat Error : Missing data in columns: lm.\n",
      "\"\n"
     ]
    },
    {
     "name": "stdout",
     "output_type": "stream",
     "text": [
      "- Fold1: mtry=2, min.node.size=15, splitrule=maxstat \n",
      "+ Fold1: mtry=2, min.node.size=20, splitrule=maxstat \n",
      "model fit failed for Fold1: mtry=2, min.node.size=20, splitrule=maxstat Error : Missing data in columns: lm.\n",
      " \n"
     ]
    },
    {
     "name": "stderr",
     "output_type": "stream",
     "text": [
      "Warning message:\n",
      "\"model fit failed for Fold1: mtry=2, min.node.size=20, splitrule=maxstat Error : Missing data in columns: lm.\n",
      "\"\n"
     ]
    },
    {
     "name": "stdout",
     "output_type": "stream",
     "text": [
      "- Fold1: mtry=2, min.node.size=20, splitrule=maxstat \n",
      "+ Fold2: mtry=2, min.node.size= 5, splitrule=variance \n",
      "model fit failed for Fold2: mtry=2, min.node.size= 5, splitrule=variance Error : Missing data in columns: lm.\n",
      " \n"
     ]
    },
    {
     "name": "stderr",
     "output_type": "stream",
     "text": [
      "Warning message:\n",
      "\"model fit failed for Fold2: mtry=2, min.node.size= 5, splitrule=variance Error : Missing data in columns: lm.\n",
      "\"\n"
     ]
    },
    {
     "name": "stdout",
     "output_type": "stream",
     "text": [
      "- Fold2: mtry=2, min.node.size= 5, splitrule=variance \n",
      "+ Fold2: mtry=2, min.node.size=10, splitrule=variance \n",
      "model fit failed for Fold2: mtry=2, min.node.size=10, splitrule=variance Error : Missing data in columns: lm.\n",
      " \n"
     ]
    },
    {
     "name": "stderr",
     "output_type": "stream",
     "text": [
      "Warning message:\n",
      "\"model fit failed for Fold2: mtry=2, min.node.size=10, splitrule=variance Error : Missing data in columns: lm.\n",
      "\"\n"
     ]
    },
    {
     "name": "stdout",
     "output_type": "stream",
     "text": [
      "- Fold2: mtry=2, min.node.size=10, splitrule=variance \n",
      "+ Fold2: mtry=2, min.node.size=15, splitrule=variance \n",
      "model fit failed for Fold2: mtry=2, min.node.size=15, splitrule=variance Error : Missing data in columns: lm.\n",
      " \n"
     ]
    },
    {
     "name": "stderr",
     "output_type": "stream",
     "text": [
      "Warning message:\n",
      "\"model fit failed for Fold2: mtry=2, min.node.size=15, splitrule=variance Error : Missing data in columns: lm.\n",
      "\"\n"
     ]
    },
    {
     "name": "stdout",
     "output_type": "stream",
     "text": [
      "- Fold2: mtry=2, min.node.size=15, splitrule=variance \n",
      "+ Fold2: mtry=2, min.node.size=20, splitrule=variance \n",
      "model fit failed for Fold2: mtry=2, min.node.size=20, splitrule=variance Error : Missing data in columns: lm.\n",
      " \n"
     ]
    },
    {
     "name": "stderr",
     "output_type": "stream",
     "text": [
      "Warning message:\n",
      "\"model fit failed for Fold2: mtry=2, min.node.size=20, splitrule=variance Error : Missing data in columns: lm.\n",
      "\"\n"
     ]
    },
    {
     "name": "stdout",
     "output_type": "stream",
     "text": [
      "- Fold2: mtry=2, min.node.size=20, splitrule=variance \n",
      "+ Fold2: mtry=2, min.node.size= 5, splitrule=extratrees \n",
      "model fit failed for Fold2: mtry=2, min.node.size= 5, splitrule=extratrees Error : Missing data in columns: lm.\n",
      " \n"
     ]
    },
    {
     "name": "stderr",
     "output_type": "stream",
     "text": [
      "Warning message:\n",
      "\"model fit failed for Fold2: mtry=2, min.node.size= 5, splitrule=extratrees Error : Missing data in columns: lm.\n",
      "\"\n"
     ]
    },
    {
     "name": "stdout",
     "output_type": "stream",
     "text": [
      "- Fold2: mtry=2, min.node.size= 5, splitrule=extratrees \n",
      "+ Fold2: mtry=2, min.node.size=10, splitrule=extratrees \n",
      "model fit failed for Fold2: mtry=2, min.node.size=10, splitrule=extratrees Error : Missing data in columns: lm.\n",
      " \n"
     ]
    },
    {
     "name": "stderr",
     "output_type": "stream",
     "text": [
      "Warning message:\n",
      "\"model fit failed for Fold2: mtry=2, min.node.size=10, splitrule=extratrees Error : Missing data in columns: lm.\n",
      "\"\n"
     ]
    },
    {
     "name": "stdout",
     "output_type": "stream",
     "text": [
      "- Fold2: mtry=2, min.node.size=10, splitrule=extratrees \n",
      "+ Fold2: mtry=2, min.node.size=15, splitrule=extratrees \n",
      "model fit failed for Fold2: mtry=2, min.node.size=15, splitrule=extratrees Error : Missing data in columns: lm.\n",
      " \n"
     ]
    },
    {
     "name": "stderr",
     "output_type": "stream",
     "text": [
      "Warning message:\n",
      "\"model fit failed for Fold2: mtry=2, min.node.size=15, splitrule=extratrees Error : Missing data in columns: lm.\n",
      "\"\n"
     ]
    },
    {
     "name": "stdout",
     "output_type": "stream",
     "text": [
      "- Fold2: mtry=2, min.node.size=15, splitrule=extratrees \n",
      "+ Fold2: mtry=2, min.node.size=20, splitrule=extratrees \n",
      "model fit failed for Fold2: mtry=2, min.node.size=20, splitrule=extratrees Error : Missing data in columns: lm.\n",
      " \n"
     ]
    },
    {
     "name": "stderr",
     "output_type": "stream",
     "text": [
      "Warning message:\n",
      "\"model fit failed for Fold2: mtry=2, min.node.size=20, splitrule=extratrees Error : Missing data in columns: lm.\n",
      "\"\n"
     ]
    },
    {
     "name": "stdout",
     "output_type": "stream",
     "text": [
      "- Fold2: mtry=2, min.node.size=20, splitrule=extratrees \n",
      "+ Fold2: mtry=2, min.node.size= 5, splitrule=maxstat \n",
      "model fit failed for Fold2: mtry=2, min.node.size= 5, splitrule=maxstat Error : Missing data in columns: lm.\n",
      " \n"
     ]
    },
    {
     "name": "stderr",
     "output_type": "stream",
     "text": [
      "Warning message:\n",
      "\"model fit failed for Fold2: mtry=2, min.node.size= 5, splitrule=maxstat Error : Missing data in columns: lm.\n",
      "\"\n"
     ]
    },
    {
     "name": "stdout",
     "output_type": "stream",
     "text": [
      "- Fold2: mtry=2, min.node.size= 5, splitrule=maxstat \n",
      "+ Fold2: mtry=2, min.node.size=10, splitrule=maxstat \n",
      "model fit failed for Fold2: mtry=2, min.node.size=10, splitrule=maxstat Error : Missing data in columns: lm.\n",
      " \n"
     ]
    },
    {
     "name": "stderr",
     "output_type": "stream",
     "text": [
      "Warning message:\n",
      "\"model fit failed for Fold2: mtry=2, min.node.size=10, splitrule=maxstat Error : Missing data in columns: lm.\n",
      "\"\n"
     ]
    },
    {
     "name": "stdout",
     "output_type": "stream",
     "text": [
      "- Fold2: mtry=2, min.node.size=10, splitrule=maxstat \n",
      "+ Fold2: mtry=2, min.node.size=15, splitrule=maxstat \n",
      "model fit failed for Fold2: mtry=2, min.node.size=15, splitrule=maxstat Error : Missing data in columns: lm.\n",
      " \n"
     ]
    },
    {
     "name": "stderr",
     "output_type": "stream",
     "text": [
      "Warning message:\n",
      "\"model fit failed for Fold2: mtry=2, min.node.size=15, splitrule=maxstat Error : Missing data in columns: lm.\n",
      "\"\n"
     ]
    },
    {
     "name": "stdout",
     "output_type": "stream",
     "text": [
      "- Fold2: mtry=2, min.node.size=15, splitrule=maxstat \n",
      "+ Fold2: mtry=2, min.node.size=20, splitrule=maxstat \n",
      "model fit failed for Fold2: mtry=2, min.node.size=20, splitrule=maxstat Error : Missing data in columns: lm.\n",
      " \n"
     ]
    },
    {
     "name": "stderr",
     "output_type": "stream",
     "text": [
      "Warning message:\n",
      "\"model fit failed for Fold2: mtry=2, min.node.size=20, splitrule=maxstat Error : Missing data in columns: lm.\n",
      "\"\n"
     ]
    },
    {
     "name": "stdout",
     "output_type": "stream",
     "text": [
      "- Fold2: mtry=2, min.node.size=20, splitrule=maxstat \n",
      "+ Fold3: mtry=2, min.node.size= 5, splitrule=variance \n",
      "model fit failed for Fold3: mtry=2, min.node.size= 5, splitrule=variance Error : Missing data in columns: lm.\n",
      " \n"
     ]
    },
    {
     "name": "stderr",
     "output_type": "stream",
     "text": [
      "Warning message:\n",
      "\"model fit failed for Fold3: mtry=2, min.node.size= 5, splitrule=variance Error : Missing data in columns: lm.\n",
      "\"\n"
     ]
    },
    {
     "name": "stdout",
     "output_type": "stream",
     "text": [
      "- Fold3: mtry=2, min.node.size= 5, splitrule=variance \n",
      "+ Fold3: mtry=2, min.node.size=10, splitrule=variance \n",
      "model fit failed for Fold3: mtry=2, min.node.size=10, splitrule=variance Error : Missing data in columns: lm.\n",
      " \n"
     ]
    },
    {
     "name": "stderr",
     "output_type": "stream",
     "text": [
      "Warning message:\n",
      "\"model fit failed for Fold3: mtry=2, min.node.size=10, splitrule=variance Error : Missing data in columns: lm.\n",
      "\"\n"
     ]
    },
    {
     "name": "stdout",
     "output_type": "stream",
     "text": [
      "- Fold3: mtry=2, min.node.size=10, splitrule=variance \n",
      "+ Fold3: mtry=2, min.node.size=15, splitrule=variance \n",
      "model fit failed for Fold3: mtry=2, min.node.size=15, splitrule=variance Error : Missing data in columns: lm.\n",
      " \n"
     ]
    },
    {
     "name": "stderr",
     "output_type": "stream",
     "text": [
      "Warning message:\n",
      "\"model fit failed for Fold3: mtry=2, min.node.size=15, splitrule=variance Error : Missing data in columns: lm.\n",
      "\"\n"
     ]
    },
    {
     "name": "stdout",
     "output_type": "stream",
     "text": [
      "- Fold3: mtry=2, min.node.size=15, splitrule=variance \n",
      "+ Fold3: mtry=2, min.node.size=20, splitrule=variance \n",
      "model fit failed for Fold3: mtry=2, min.node.size=20, splitrule=variance Error : Missing data in columns: lm.\n",
      " \n"
     ]
    },
    {
     "name": "stderr",
     "output_type": "stream",
     "text": [
      "Warning message:\n",
      "\"model fit failed for Fold3: mtry=2, min.node.size=20, splitrule=variance Error : Missing data in columns: lm.\n",
      "\"\n"
     ]
    },
    {
     "name": "stdout",
     "output_type": "stream",
     "text": [
      "- Fold3: mtry=2, min.node.size=20, splitrule=variance \n",
      "+ Fold3: mtry=2, min.node.size= 5, splitrule=extratrees \n",
      "model fit failed for Fold3: mtry=2, min.node.size= 5, splitrule=extratrees Error : Missing data in columns: lm.\n",
      " \n"
     ]
    },
    {
     "name": "stderr",
     "output_type": "stream",
     "text": [
      "Warning message:\n",
      "\"model fit failed for Fold3: mtry=2, min.node.size= 5, splitrule=extratrees Error : Missing data in columns: lm.\n",
      "\"\n"
     ]
    },
    {
     "name": "stdout",
     "output_type": "stream",
     "text": [
      "- Fold3: mtry=2, min.node.size= 5, splitrule=extratrees \n",
      "+ Fold3: mtry=2, min.node.size=10, splitrule=extratrees \n",
      "model fit failed for Fold3: mtry=2, min.node.size=10, splitrule=extratrees Error : Missing data in columns: lm.\n",
      " \n"
     ]
    },
    {
     "name": "stderr",
     "output_type": "stream",
     "text": [
      "Warning message:\n",
      "\"model fit failed for Fold3: mtry=2, min.node.size=10, splitrule=extratrees Error : Missing data in columns: lm.\n",
      "\"\n"
     ]
    },
    {
     "name": "stdout",
     "output_type": "stream",
     "text": [
      "- Fold3: mtry=2, min.node.size=10, splitrule=extratrees \n",
      "+ Fold3: mtry=2, min.node.size=15, splitrule=extratrees \n",
      "model fit failed for Fold3: mtry=2, min.node.size=15, splitrule=extratrees Error : Missing data in columns: lm.\n",
      " \n"
     ]
    },
    {
     "name": "stderr",
     "output_type": "stream",
     "text": [
      "Warning message:\n",
      "\"model fit failed for Fold3: mtry=2, min.node.size=15, splitrule=extratrees Error : Missing data in columns: lm.\n",
      "\"\n"
     ]
    },
    {
     "name": "stdout",
     "output_type": "stream",
     "text": [
      "- Fold3: mtry=2, min.node.size=15, splitrule=extratrees \n",
      "+ Fold3: mtry=2, min.node.size=20, splitrule=extratrees \n",
      "model fit failed for Fold3: mtry=2, min.node.size=20, splitrule=extratrees Error : Missing data in columns: lm.\n",
      " \n"
     ]
    },
    {
     "name": "stderr",
     "output_type": "stream",
     "text": [
      "Warning message:\n",
      "\"model fit failed for Fold3: mtry=2, min.node.size=20, splitrule=extratrees Error : Missing data in columns: lm.\n",
      "\"\n"
     ]
    },
    {
     "name": "stdout",
     "output_type": "stream",
     "text": [
      "- Fold3: mtry=2, min.node.size=20, splitrule=extratrees \n",
      "+ Fold3: mtry=2, min.node.size= 5, splitrule=maxstat \n",
      "model fit failed for Fold3: mtry=2, min.node.size= 5, splitrule=maxstat Error : Missing data in columns: lm.\n",
      " \n"
     ]
    },
    {
     "name": "stderr",
     "output_type": "stream",
     "text": [
      "Warning message:\n",
      "\"model fit failed for Fold3: mtry=2, min.node.size= 5, splitrule=maxstat Error : Missing data in columns: lm.\n",
      "\"\n"
     ]
    },
    {
     "name": "stdout",
     "output_type": "stream",
     "text": [
      "- Fold3: mtry=2, min.node.size= 5, splitrule=maxstat \n",
      "+ Fold3: mtry=2, min.node.size=10, splitrule=maxstat \n",
      "model fit failed for Fold3: mtry=2, min.node.size=10, splitrule=maxstat Error : Missing data in columns: lm.\n",
      " \n"
     ]
    },
    {
     "name": "stderr",
     "output_type": "stream",
     "text": [
      "Warning message:\n",
      "\"model fit failed for Fold3: mtry=2, min.node.size=10, splitrule=maxstat Error : Missing data in columns: lm.\n",
      "\"\n"
     ]
    },
    {
     "name": "stdout",
     "output_type": "stream",
     "text": [
      "- Fold3: mtry=2, min.node.size=10, splitrule=maxstat \n",
      "+ Fold3: mtry=2, min.node.size=15, splitrule=maxstat \n",
      "model fit failed for Fold3: mtry=2, min.node.size=15, splitrule=maxstat Error : Missing data in columns: lm.\n",
      " \n"
     ]
    },
    {
     "name": "stderr",
     "output_type": "stream",
     "text": [
      "Warning message:\n",
      "\"model fit failed for Fold3: mtry=2, min.node.size=15, splitrule=maxstat Error : Missing data in columns: lm.\n",
      "\"\n"
     ]
    },
    {
     "name": "stdout",
     "output_type": "stream",
     "text": [
      "- Fold3: mtry=2, min.node.size=15, splitrule=maxstat \n",
      "+ Fold3: mtry=2, min.node.size=20, splitrule=maxstat \n",
      "model fit failed for Fold3: mtry=2, min.node.size=20, splitrule=maxstat Error : Missing data in columns: lm.\n",
      " \n"
     ]
    },
    {
     "name": "stderr",
     "output_type": "stream",
     "text": [
      "Warning message:\n",
      "\"model fit failed for Fold3: mtry=2, min.node.size=20, splitrule=maxstat Error : Missing data in columns: lm.\n",
      "\"\n"
     ]
    },
    {
     "name": "stdout",
     "output_type": "stream",
     "text": [
      "- Fold3: mtry=2, min.node.size=20, splitrule=maxstat \n",
      "+ Fold4: mtry=2, min.node.size= 5, splitrule=variance \n",
      "model fit failed for Fold4: mtry=2, min.node.size= 5, splitrule=variance Error : Missing data in columns: lm.\n",
      " \n"
     ]
    },
    {
     "name": "stderr",
     "output_type": "stream",
     "text": [
      "Warning message:\n",
      "\"model fit failed for Fold4: mtry=2, min.node.size= 5, splitrule=variance Error : Missing data in columns: lm.\n",
      "\"\n"
     ]
    },
    {
     "name": "stdout",
     "output_type": "stream",
     "text": [
      "- Fold4: mtry=2, min.node.size= 5, splitrule=variance \n",
      "+ Fold4: mtry=2, min.node.size=10, splitrule=variance \n",
      "model fit failed for Fold4: mtry=2, min.node.size=10, splitrule=variance Error : Missing data in columns: lm.\n",
      " \n"
     ]
    },
    {
     "name": "stderr",
     "output_type": "stream",
     "text": [
      "Warning message:\n",
      "\"model fit failed for Fold4: mtry=2, min.node.size=10, splitrule=variance Error : Missing data in columns: lm.\n",
      "\"\n"
     ]
    },
    {
     "name": "stdout",
     "output_type": "stream",
     "text": [
      "- Fold4: mtry=2, min.node.size=10, splitrule=variance \n",
      "+ Fold4: mtry=2, min.node.size=15, splitrule=variance \n",
      "model fit failed for Fold4: mtry=2, min.node.size=15, splitrule=variance Error : Missing data in columns: lm.\n",
      " \n"
     ]
    },
    {
     "name": "stderr",
     "output_type": "stream",
     "text": [
      "Warning message:\n",
      "\"model fit failed for Fold4: mtry=2, min.node.size=15, splitrule=variance Error : Missing data in columns: lm.\n",
      "\"\n"
     ]
    },
    {
     "name": "stdout",
     "output_type": "stream",
     "text": [
      "- Fold4: mtry=2, min.node.size=15, splitrule=variance \n",
      "+ Fold4: mtry=2, min.node.size=20, splitrule=variance \n",
      "model fit failed for Fold4: mtry=2, min.node.size=20, splitrule=variance Error : Missing data in columns: lm.\n",
      " \n"
     ]
    },
    {
     "name": "stderr",
     "output_type": "stream",
     "text": [
      "Warning message:\n",
      "\"model fit failed for Fold4: mtry=2, min.node.size=20, splitrule=variance Error : Missing data in columns: lm.\n",
      "\"\n"
     ]
    },
    {
     "name": "stdout",
     "output_type": "stream",
     "text": [
      "- Fold4: mtry=2, min.node.size=20, splitrule=variance \n",
      "+ Fold4: mtry=2, min.node.size= 5, splitrule=extratrees \n",
      "model fit failed for Fold4: mtry=2, min.node.size= 5, splitrule=extratrees Error : Missing data in columns: lm.\n",
      " \n"
     ]
    },
    {
     "name": "stderr",
     "output_type": "stream",
     "text": [
      "Warning message:\n",
      "\"model fit failed for Fold4: mtry=2, min.node.size= 5, splitrule=extratrees Error : Missing data in columns: lm.\n",
      "\"\n"
     ]
    },
    {
     "name": "stdout",
     "output_type": "stream",
     "text": [
      "- Fold4: mtry=2, min.node.size= 5, splitrule=extratrees \n",
      "+ Fold4: mtry=2, min.node.size=10, splitrule=extratrees \n",
      "model fit failed for Fold4: mtry=2, min.node.size=10, splitrule=extratrees Error : Missing data in columns: lm.\n",
      " \n"
     ]
    },
    {
     "name": "stderr",
     "output_type": "stream",
     "text": [
      "Warning message:\n",
      "\"model fit failed for Fold4: mtry=2, min.node.size=10, splitrule=extratrees Error : Missing data in columns: lm.\n",
      "\"\n"
     ]
    },
    {
     "name": "stdout",
     "output_type": "stream",
     "text": [
      "- Fold4: mtry=2, min.node.size=10, splitrule=extratrees \n",
      "+ Fold4: mtry=2, min.node.size=15, splitrule=extratrees \n",
      "model fit failed for Fold4: mtry=2, min.node.size=15, splitrule=extratrees Error : Missing data in columns: lm.\n",
      " \n"
     ]
    },
    {
     "name": "stderr",
     "output_type": "stream",
     "text": [
      "Warning message:\n",
      "\"model fit failed for Fold4: mtry=2, min.node.size=15, splitrule=extratrees Error : Missing data in columns: lm.\n",
      "\"\n"
     ]
    },
    {
     "name": "stdout",
     "output_type": "stream",
     "text": [
      "- Fold4: mtry=2, min.node.size=15, splitrule=extratrees \n",
      "+ Fold4: mtry=2, min.node.size=20, splitrule=extratrees \n",
      "model fit failed for Fold4: mtry=2, min.node.size=20, splitrule=extratrees Error : Missing data in columns: lm.\n",
      " \n"
     ]
    },
    {
     "name": "stderr",
     "output_type": "stream",
     "text": [
      "Warning message:\n",
      "\"model fit failed for Fold4: mtry=2, min.node.size=20, splitrule=extratrees Error : Missing data in columns: lm.\n",
      "\"\n"
     ]
    },
    {
     "name": "stdout",
     "output_type": "stream",
     "text": [
      "- Fold4: mtry=2, min.node.size=20, splitrule=extratrees \n",
      "+ Fold4: mtry=2, min.node.size= 5, splitrule=maxstat \n",
      "model fit failed for Fold4: mtry=2, min.node.size= 5, splitrule=maxstat Error : Missing data in columns: lm.\n",
      " \n"
     ]
    },
    {
     "name": "stderr",
     "output_type": "stream",
     "text": [
      "Warning message:\n",
      "\"model fit failed for Fold4: mtry=2, min.node.size= 5, splitrule=maxstat Error : Missing data in columns: lm.\n",
      "\"\n"
     ]
    },
    {
     "name": "stdout",
     "output_type": "stream",
     "text": [
      "- Fold4: mtry=2, min.node.size= 5, splitrule=maxstat \n",
      "+ Fold4: mtry=2, min.node.size=10, splitrule=maxstat \n",
      "model fit failed for Fold4: mtry=2, min.node.size=10, splitrule=maxstat Error : Missing data in columns: lm.\n",
      " \n"
     ]
    },
    {
     "name": "stderr",
     "output_type": "stream",
     "text": [
      "Warning message:\n",
      "\"model fit failed for Fold4: mtry=2, min.node.size=10, splitrule=maxstat Error : Missing data in columns: lm.\n",
      "\"\n"
     ]
    },
    {
     "name": "stdout",
     "output_type": "stream",
     "text": [
      "- Fold4: mtry=2, min.node.size=10, splitrule=maxstat \n",
      "+ Fold4: mtry=2, min.node.size=15, splitrule=maxstat \n",
      "model fit failed for Fold4: mtry=2, min.node.size=15, splitrule=maxstat Error : Missing data in columns: lm.\n",
      " \n"
     ]
    },
    {
     "name": "stderr",
     "output_type": "stream",
     "text": [
      "Warning message:\n",
      "\"model fit failed for Fold4: mtry=2, min.node.size=15, splitrule=maxstat Error : Missing data in columns: lm.\n",
      "\"\n"
     ]
    },
    {
     "name": "stdout",
     "output_type": "stream",
     "text": [
      "- Fold4: mtry=2, min.node.size=15, splitrule=maxstat \n",
      "+ Fold4: mtry=2, min.node.size=20, splitrule=maxstat \n",
      "model fit failed for Fold4: mtry=2, min.node.size=20, splitrule=maxstat Error : Missing data in columns: lm.\n",
      " \n"
     ]
    },
    {
     "name": "stderr",
     "output_type": "stream",
     "text": [
      "Warning message:\n",
      "\"model fit failed for Fold4: mtry=2, min.node.size=20, splitrule=maxstat Error : Missing data in columns: lm.\n",
      "\"\n"
     ]
    },
    {
     "name": "stdout",
     "output_type": "stream",
     "text": [
      "- Fold4: mtry=2, min.node.size=20, splitrule=maxstat \n",
      "+ Fold5: mtry=2, min.node.size= 5, splitrule=variance \n",
      "model fit failed for Fold5: mtry=2, min.node.size= 5, splitrule=variance Error : Missing data in columns: lm.\n",
      " \n"
     ]
    },
    {
     "name": "stderr",
     "output_type": "stream",
     "text": [
      "Warning message:\n",
      "\"model fit failed for Fold5: mtry=2, min.node.size= 5, splitrule=variance Error : Missing data in columns: lm.\n",
      "\"\n"
     ]
    },
    {
     "name": "stdout",
     "output_type": "stream",
     "text": [
      "- Fold5: mtry=2, min.node.size= 5, splitrule=variance \n",
      "+ Fold5: mtry=2, min.node.size=10, splitrule=variance \n",
      "model fit failed for Fold5: mtry=2, min.node.size=10, splitrule=variance Error : Missing data in columns: lm.\n",
      " \n"
     ]
    },
    {
     "name": "stderr",
     "output_type": "stream",
     "text": [
      "Warning message:\n",
      "\"model fit failed for Fold5: mtry=2, min.node.size=10, splitrule=variance Error : Missing data in columns: lm.\n",
      "\"\n"
     ]
    },
    {
     "name": "stdout",
     "output_type": "stream",
     "text": [
      "- Fold5: mtry=2, min.node.size=10, splitrule=variance \n",
      "+ Fold5: mtry=2, min.node.size=15, splitrule=variance \n",
      "model fit failed for Fold5: mtry=2, min.node.size=15, splitrule=variance Error : Missing data in columns: lm.\n",
      " \n"
     ]
    },
    {
     "name": "stderr",
     "output_type": "stream",
     "text": [
      "Warning message:\n",
      "\"model fit failed for Fold5: mtry=2, min.node.size=15, splitrule=variance Error : Missing data in columns: lm.\n",
      "\"\n"
     ]
    },
    {
     "name": "stdout",
     "output_type": "stream",
     "text": [
      "- Fold5: mtry=2, min.node.size=15, splitrule=variance \n",
      "+ Fold5: mtry=2, min.node.size=20, splitrule=variance \n",
      "model fit failed for Fold5: mtry=2, min.node.size=20, splitrule=variance Error : Missing data in columns: lm.\n",
      " \n"
     ]
    },
    {
     "name": "stderr",
     "output_type": "stream",
     "text": [
      "Warning message:\n",
      "\"model fit failed for Fold5: mtry=2, min.node.size=20, splitrule=variance Error : Missing data in columns: lm.\n",
      "\"\n"
     ]
    },
    {
     "name": "stdout",
     "output_type": "stream",
     "text": [
      "- Fold5: mtry=2, min.node.size=20, splitrule=variance \n",
      "+ Fold5: mtry=2, min.node.size= 5, splitrule=extratrees \n",
      "model fit failed for Fold5: mtry=2, min.node.size= 5, splitrule=extratrees Error : Missing data in columns: lm.\n",
      " \n"
     ]
    },
    {
     "name": "stderr",
     "output_type": "stream",
     "text": [
      "Warning message:\n",
      "\"model fit failed for Fold5: mtry=2, min.node.size= 5, splitrule=extratrees Error : Missing data in columns: lm.\n",
      "\"\n"
     ]
    },
    {
     "name": "stdout",
     "output_type": "stream",
     "text": [
      "- Fold5: mtry=2, min.node.size= 5, splitrule=extratrees \n",
      "+ Fold5: mtry=2, min.node.size=10, splitrule=extratrees \n",
      "model fit failed for Fold5: mtry=2, min.node.size=10, splitrule=extratrees Error : Missing data in columns: lm.\n",
      " \n"
     ]
    },
    {
     "name": "stderr",
     "output_type": "stream",
     "text": [
      "Warning message:\n",
      "\"model fit failed for Fold5: mtry=2, min.node.size=10, splitrule=extratrees Error : Missing data in columns: lm.\n",
      "\"\n"
     ]
    },
    {
     "name": "stdout",
     "output_type": "stream",
     "text": [
      "- Fold5: mtry=2, min.node.size=10, splitrule=extratrees \n",
      "+ Fold5: mtry=2, min.node.size=15, splitrule=extratrees \n",
      "model fit failed for Fold5: mtry=2, min.node.size=15, splitrule=extratrees Error : Missing data in columns: lm.\n",
      " \n"
     ]
    },
    {
     "name": "stderr",
     "output_type": "stream",
     "text": [
      "Warning message:\n",
      "\"model fit failed for Fold5: mtry=2, min.node.size=15, splitrule=extratrees Error : Missing data in columns: lm.\n",
      "\"\n"
     ]
    },
    {
     "name": "stdout",
     "output_type": "stream",
     "text": [
      "- Fold5: mtry=2, min.node.size=15, splitrule=extratrees \n",
      "+ Fold5: mtry=2, min.node.size=20, splitrule=extratrees \n",
      "model fit failed for Fold5: mtry=2, min.node.size=20, splitrule=extratrees Error : Missing data in columns: lm.\n",
      " \n"
     ]
    },
    {
     "name": "stderr",
     "output_type": "stream",
     "text": [
      "Warning message:\n",
      "\"model fit failed for Fold5: mtry=2, min.node.size=20, splitrule=extratrees Error : Missing data in columns: lm.\n",
      "\"\n"
     ]
    },
    {
     "name": "stdout",
     "output_type": "stream",
     "text": [
      "- Fold5: mtry=2, min.node.size=20, splitrule=extratrees \n",
      "+ Fold5: mtry=2, min.node.size= 5, splitrule=maxstat \n",
      "model fit failed for Fold5: mtry=2, min.node.size= 5, splitrule=maxstat Error : Missing data in columns: lm.\n",
      " \n"
     ]
    },
    {
     "name": "stderr",
     "output_type": "stream",
     "text": [
      "Warning message:\n",
      "\"model fit failed for Fold5: mtry=2, min.node.size= 5, splitrule=maxstat Error : Missing data in columns: lm.\n",
      "\"\n"
     ]
    },
    {
     "name": "stdout",
     "output_type": "stream",
     "text": [
      "- Fold5: mtry=2, min.node.size= 5, splitrule=maxstat \n",
      "+ Fold5: mtry=2, min.node.size=10, splitrule=maxstat \n",
      "model fit failed for Fold5: mtry=2, min.node.size=10, splitrule=maxstat Error : Missing data in columns: lm.\n",
      " \n"
     ]
    },
    {
     "name": "stderr",
     "output_type": "stream",
     "text": [
      "Warning message:\n",
      "\"model fit failed for Fold5: mtry=2, min.node.size=10, splitrule=maxstat Error : Missing data in columns: lm.\n",
      "\"\n"
     ]
    },
    {
     "name": "stdout",
     "output_type": "stream",
     "text": [
      "- Fold5: mtry=2, min.node.size=10, splitrule=maxstat \n",
      "+ Fold5: mtry=2, min.node.size=15, splitrule=maxstat \n",
      "model fit failed for Fold5: mtry=2, min.node.size=15, splitrule=maxstat Error : Missing data in columns: lm.\n",
      " \n"
     ]
    },
    {
     "name": "stderr",
     "output_type": "stream",
     "text": [
      "Warning message:\n",
      "\"model fit failed for Fold5: mtry=2, min.node.size=15, splitrule=maxstat Error : Missing data in columns: lm.\n",
      "\"\n"
     ]
    },
    {
     "name": "stdout",
     "output_type": "stream",
     "text": [
      "- Fold5: mtry=2, min.node.size=15, splitrule=maxstat \n",
      "+ Fold5: mtry=2, min.node.size=20, splitrule=maxstat \n",
      "model fit failed for Fold5: mtry=2, min.node.size=20, splitrule=maxstat Error : Missing data in columns: lm.\n",
      " \n"
     ]
    },
    {
     "name": "stderr",
     "output_type": "stream",
     "text": [
      "Warning message:\n",
      "\"model fit failed for Fold5: mtry=2, min.node.size=20, splitrule=maxstat Error : Missing data in columns: lm.\n",
      "\"\n"
     ]
    },
    {
     "name": "stdout",
     "output_type": "stream",
     "text": [
      "- Fold5: mtry=2, min.node.size=20, splitrule=maxstat \n"
     ]
    },
    {
     "name": "stderr",
     "output_type": "stream",
     "text": [
      "Warning message in nominalTrainWorkflow(x = x, y = y, wts = weights, info = trainInfo, :\n",
      "\"There were missing values in resampled performance measures.\"\n"
     ]
    },
    {
     "name": "stdout",
     "output_type": "stream",
     "text": [
      "Aggregating results\n",
      "Something is wrong; all the RMSE metric values are missing:\n",
      "      RMSE        Rsquared        MAE     \n",
      " Min.   : NA   Min.   : NA   Min.   : NA  \n",
      " 1st Qu.: NA   1st Qu.: NA   1st Qu.: NA  \n",
      " Median : NA   Median : NA   Median : NA  \n",
      " Mean   :NaN   Mean   :NaN   Mean   :NaN  \n",
      " 3rd Qu.: NA   3rd Qu.: NA   3rd Qu.: NA  \n",
      " Max.   : NA   Max.   : NA   Max.   : NA  \n",
      " NA's   :12    NA's   :12    NA's   :12   \n"
     ]
    },
    {
     "ename": "ERROR",
     "evalue": "Error: Stopping\n",
     "output_type": "error",
     "traceback": [
      "Error: Stopping\nTraceback:\n",
      "1. caretStack(model_list, trControl = fitControl, metric = \"RMSE\", \n .     method = \"ranger\", tuneGrid = rfGrid)",
      "2. caret::train(preds, obs, metric = metric, trControl = trControl, \n .     ...)",
      "3. train.default(preds, obs, metric = metric, trControl = trControl, \n .     ...)",
      "4. stop(\"Stopping\", call. = FALSE)"
     ]
    }
   ],
   "source": [
    "rfGrid <- expand.grid(\n",
    "  mtry = 2,\n",
    "  min.node.size = c(5,10,15,20),\n",
    "  splitrule = c(\"variance\", \"extratrees\", \"maxstat\")\n",
    ")\n",
    "\n",
    "stacked_model <- caretStack(\n",
    "  model_list,\n",
    "  trControl = fitControl,\n",
    "  metric = \"RMSE\",\n",
    "  method = \"ranger\",\n",
    "  tuneGrid = rfGrid\n",
    ")\n",
    "\n",
    "save(stacked_model, file = \"user_trained_SLOS_model.RData\")"
   ]
  },
  {
   "cell_type": "code",
   "execution_count": 54,
   "id": "a5bfb9b1-d1b6-47a1-b438-97b741bfc252",
   "metadata": {},
   "outputs": [
    {
     "name": "stderr",
     "output_type": "stream",
     "text": [
      "Warning message:\n",
      "\"predictions failed for Resample01: intercept=TRUE Error in model.frame.default(Terms, newdata, na.action = na.action, xlev = object$xlevels) : \n",
      "  fator 'AdmissionTypeName' tem novos níveis Surgical\n",
      "\"\n",
      "Warning message:\n",
      "\"predictions failed for Resample02: intercept=TRUE Error in model.frame.default(Terms, newdata, na.action = na.action, xlev = object$xlevels) : \n",
      "  fator 'AdmissionTypeName' tem novos níveis Surgical\n",
      "\"\n",
      "Warning message:\n",
      "\"predictions failed for Resample05: intercept=TRUE Error in model.frame.default(Terms, newdata, na.action = na.action, xlev = object$xlevels) : \n",
      "  fator 'AdmissionTypeName' tem novos níveis Surgical\n",
      "\"\n",
      "Warning message:\n",
      "\"predictions failed for Resample10: intercept=TRUE Error in model.frame.default(Terms, newdata, na.action = na.action, xlev = object$xlevels) : \n",
      "  fator 'AdmissionTypeName' tem novos níveis Surgical\n",
      "\"\n",
      "Warning message:\n",
      "\"predictions failed for Resample11: intercept=TRUE Error in model.frame.default(Terms, newdata, na.action = na.action, xlev = object$xlevels) : \n",
      "  fator 'AdmissionTypeName' tem novos níveis Surgical\n",
      "\"\n",
      "Warning message:\n",
      "\"predictions failed for Resample12: intercept=TRUE Error in model.frame.default(Terms, newdata, na.action = na.action, xlev = object$xlevels) : \n",
      "  fator 'AdmissionTypeName' tem novos níveis Surgical\n",
      "\"\n",
      "Warning message:\n",
      "\"predictions failed for Resample13: intercept=TRUE Error in model.frame.default(Terms, newdata, na.action = na.action, xlev = object$xlevels) : \n",
      "  fator 'AdmissionTypeName' tem novos níveis Surgical\n",
      "\"\n",
      "Warning message:\n",
      "\"predictions failed for Resample15: intercept=TRUE Error in model.frame.default(Terms, newdata, na.action = na.action, xlev = object$xlevels) : \n",
      "  fator 'AdmissionTypeName' tem novos níveis Surgical\n",
      "\"\n",
      "Warning message:\n",
      "\"predictions failed for Resample16: intercept=TRUE Error in model.frame.default(Terms, newdata, na.action = na.action, xlev = object$xlevels) : \n",
      "  fator 'AdmissionTypeName' tem novos níveis Surgical\n",
      "\"\n",
      "Warning message:\n",
      "\"predictions failed for Resample19: intercept=TRUE Error in model.frame.default(Terms, newdata, na.action = na.action, xlev = object$xlevels) : \n",
      "  fator 'AdmissionTypeName' tem novos níveis Surgical\n",
      "\"\n",
      "Warning message:\n",
      "\"predictions failed for Resample20: intercept=TRUE Error in model.frame.default(Terms, newdata, na.action = na.action, xlev = object$xlevels) : \n",
      "  fator 'AdmissionTypeName' tem novos níveis Surgical\n",
      "\"\n",
      "Warning message:\n",
      "\"predictions failed for Resample22: intercept=TRUE Error in model.frame.default(Terms, newdata, na.action = na.action, xlev = object$xlevels) : \n",
      "  fator 'AdmissionTypeName' tem novos níveis Surgical\n",
      "\"\n",
      "Warning message:\n",
      "\"predictions failed for Resample23: intercept=TRUE Error in model.frame.default(Terms, newdata, na.action = na.action, xlev = object$xlevels) : \n",
      "  fator 'AdmissionTypeName' tem novos níveis Surgical\n",
      "\"\n",
      "Warning message:\n",
      "\"predictions failed for Resample25: intercept=TRUE Error in model.frame.default(Terms, newdata, na.action = na.action, xlev = object$xlevels) : \n",
      "  fator 'AdmissionTypeName' tem novos níveis Surgical\n",
      "\"\n",
      "Warning message in nominalTrainWorkflow(x = x, y = y, wts = weights, info = trainInfo, :\n",
      "\"There were missing values in resampled performance measures.\"\n"
     ]
    },
    {
     "data": {
      "text/plain": [
       "Linear Regression \n",
       "\n",
       "800 samples\n",
       " 18 predictor\n",
       "\n",
       "No pre-processing\n",
       "Resampling: Bootstrapped (25 reps) \n",
       "Summary of sample sizes: 800, 800, 800, 800, 800, 800, ... \n",
       "Resampling results:\n",
       "\n",
       "  RMSE          Rsquared  MAE         \n",
       "  5.126018e-15  1         3.453253e-15\n",
       "\n",
       "Tuning parameter 'intercept' was held constant at a value of TRUE"
      ]
     },
     "metadata": {},
     "output_type": "display_data"
    }
   ],
   "source": [
    "train(\n",
    "  x = training[, !(names(training) %in% c(\"UnitLengthStay_trunc\"))],\n",
    "  y = training$UnitLengthStay_trunc,\n",
    "  method = \"lm\"\n",
    ")\n"
   ]
  },
  {
   "cell_type": "markdown",
   "id": "c26129e4-8a77-459f-80c4-1f587eefe9e8",
   "metadata": {},
   "source": [
    "### Model Prediction and Evaluation\n",
    "This section handles making predictions with the trained stacked model and evaluating its performance using key metrics.\n",
    "\n",
    "1. the predict(stacked_model, newdata = testing) call generates **predictions** for the test set using the stacked model.\n",
    "\n",
    "2. We **evaluate** the trained model performance on three metrics:\n",
    "\n",
    "- Root Mean Squared Error (RMSE): Measures the average magnitude of the prediction errors.\n",
    "\n",
    "- Mean Absolute Error (MAE): Measures the average of the absolute errors, giving a sense of how far off the predictions are.\n",
    "\n",
    "- R-squared (R2): Indicates the proportion of the variance in the dependent variable that is predictable from the independent variables.\n",
    "\n",
    "These metrics are computed using the functions available in the MLMetrics package."
   ]
  },
  {
   "cell_type": "code",
   "execution_count": 49,
   "id": "89f4b371-f5ac-43b0-abdb-debfb30460b4",
   "metadata": {},
   "outputs": [],
   "source": [
    "predictions <- predict(stacked_model, newdata = testing)"
   ]
  },
  {
   "cell_type": "code",
   "execution_count": 50,
   "id": "c5a5de98-7dbe-4ecd-8ed2-f65b195885f5",
   "metadata": {},
   "outputs": [
    {
     "data": {
      "text/html": [
       "<style>\n",
       ".list-inline {list-style: none; margin:0; padding: 0}\n",
       ".list-inline>li {display: inline-block}\n",
       ".list-inline>li:not(:last-child)::after {content: \"\\00b7\"; padding: 0 .5ex}\n",
       "</style>\n",
       "<ol class=list-inline><li>2.62152777777778</li><li>7.13541666666667</li><li>1.04652777777778</li><li>2.77083333333333</li><li>3.88472222222222</li><li>21</li><li>1.11458333333333</li><li>5.35208333333333</li><li>3.07638888888889</li><li>2.47430555555556</li><li>0.93125</li><li>2.78472222222222</li><li>1.1875</li><li>0.61875</li><li>21</li><li>0.794444444444444</li><li>20.75625</li><li>8.53611111111111</li><li>9.85763888888889</li><li>2.97152777777778</li><li>17.4708333333333</li><li>8.86319444444444</li><li>1.75347222222222</li><li>6.63888888888889</li><li>1.89722222222222</li><li>2.88680555555556</li><li>2.89305555555556</li><li>1.96597222222222</li><li>10.7131944444444</li><li>3.00972222222222</li><li>0.778472222222222</li><li>3.81111111111111</li><li>1.93888888888889</li><li>4.05902777777778</li><li>3.08680555555556</li><li>8.53958333333333</li><li>3.27013888888889</li><li>1.77083333333333</li><li>7.78333333333333</li><li>8.73055555555556</li><li>5.05277777777778</li><li>8.01041666666667</li><li>2.01527777777778</li><li>1.75763888888889</li><li>0.909722222222222</li><li>1.46458333333333</li><li>9.09722222222222</li><li>2.72569444444444</li><li>4.9375</li><li>2.23402777777778</li><li>1.59722222222222</li><li>6.9875</li><li>2.12986111111111</li><li>1.57777777777778</li><li>2.33263888888889</li><li>6.90694444444444</li><li>1.18611111111111</li><li>2.7375</li><li>1.61458333333333</li><li>2.37083333333333</li><li>4.0125</li><li>1.98125</li><li>2.78125</li><li>2.40902777777778</li><li>0.957638888888889</li><li>3.68194444444444</li><li>2.04791666666667</li><li>1.97361111111111</li><li>4.27083333333333</li><li>6.07569444444444</li><li>1.92361111111111</li><li>1.95138888888889</li><li>3.30208333333333</li><li>0.811111111111111</li><li>3.63333333333333</li><li>2.72916666666667</li><li>3.00694444444444</li><li>0.897222222222222</li><li>2.45416666666667</li><li>3.775</li><li>1.72013888888889</li><li>0.880555555555556</li><li>1.32708333333333</li><li>2.83333333333333</li><li>2.93819444444444</li><li>12.8118055555556</li><li>0.927777777777778</li><li>1.78333333333333</li><li>9.60555555555556</li><li>2.9375</li><li>3.95555555555556</li><li>0.379166666666667</li><li>7</li><li>4.40208333333333</li><li>4.86736111111111</li><li>1.25902777777778</li><li>10.6673611111111</li><li>6.32361111111111</li><li>1.83541666666667</li><li>1.65277777777778</li><li>6.93194444444444</li><li>2.84444444444444</li><li>1.32013888888889</li><li>0.704166666666667</li><li>10.0395833333333</li><li>3.60416666666667</li><li>2.14513888888889</li><li>1.39444444444444</li><li>1.90208333333333</li><li>21</li><li>7.58472222222222</li><li>2.72222222222222</li><li>0.969444444444444</li><li>13.3409722222222</li><li>5.76388888888889</li><li>1.01041666666667</li><li>7.95694444444444</li><li>3.63541666666667</li><li>5.05</li><li>1.96111111111111</li><li>2.94375</li><li>2.95833333333333</li><li>3.04861111111111</li><li>7.10763888888889</li><li>2.10277777777778</li><li>3.63680555555556</li><li>7.97430555555556</li><li>21</li><li>1.9375</li><li>1.72569444444444</li><li>5.53541666666667</li><li>5.94375</li><li>0.650694444444444</li><li>2.06458333333333</li><li>1.49027777777778</li><li>3.45763888888889</li><li>0.975</li><li>1.06041666666667</li><li>15.4208333333333</li><li>2.81805555555556</li><li>1.95833333333333</li><li>4.99097222222222</li><li>12.8222222222222</li><li>1.67430555555556</li><li>2.95902777777778</li><li>0.997916666666667</li><li>9.87777777777778</li><li>1.87152777777778</li><li>3.58194444444444</li><li>2.94236111111111</li><li>3.47013888888889</li><li>0.930555555555556</li><li>3.13819444444444</li><li>0.992361111111111</li><li>2.84236111111111</li><li>2.05694444444444</li><li>1.84513888888889</li><li>2.94513888888889</li><li>3.06736111111111</li><li>1.86666666666667</li><li>3.08958333333333</li><li>6.48611111111111</li><li>6.26736111111111</li><li>2.02569444444444</li><li>0.764583333333333</li><li>3.62013888888889</li><li>5.03888888888889</li><li>9.12152777777778</li><li>0.85625</li><li>3.98472222222222</li><li>1.95763888888889</li><li>0.775</li><li>2.72083333333333</li><li>1.65069444444444</li><li>4.76736111111111</li><li>4.02013888888889</li><li>5.00763888888889</li><li>3.11458333333333</li><li>4.09513888888889</li><li>5.23958333333333</li><li>1.02083333333333</li><li>1.19444444444444</li><li>3.70208333333333</li><li>3.79652777777778</li><li>1.62569444444444</li><li>9.70138888888889</li><li>6.68541666666667</li><li>4.97222222222222</li><li>0.69375</li><li>0.34375</li><li>2.39166666666667</li><li>8.82847222222222</li><li>13.0861111111111</li><li>8.13958333333333</li><li>0.978472222222222</li><li>21</li><li>0.489583333333333</li><li>1.58333333333333</li><li>8.11388888888889</li><li>0.995138888888889</li></ol>\n"
      ],
      "text/latex": [
       "\\begin{enumerate*}\n",
       "\\item 2.62152777777778\n",
       "\\item 7.13541666666667\n",
       "\\item 1.04652777777778\n",
       "\\item 2.77083333333333\n",
       "\\item 3.88472222222222\n",
       "\\item 21\n",
       "\\item 1.11458333333333\n",
       "\\item 5.35208333333333\n",
       "\\item 3.07638888888889\n",
       "\\item 2.47430555555556\n",
       "\\item 0.93125\n",
       "\\item 2.78472222222222\n",
       "\\item 1.1875\n",
       "\\item 0.61875\n",
       "\\item 21\n",
       "\\item 0.794444444444444\n",
       "\\item 20.75625\n",
       "\\item 8.53611111111111\n",
       "\\item 9.85763888888889\n",
       "\\item 2.97152777777778\n",
       "\\item 17.4708333333333\n",
       "\\item 8.86319444444444\n",
       "\\item 1.75347222222222\n",
       "\\item 6.63888888888889\n",
       "\\item 1.89722222222222\n",
       "\\item 2.88680555555556\n",
       "\\item 2.89305555555556\n",
       "\\item 1.96597222222222\n",
       "\\item 10.7131944444444\n",
       "\\item 3.00972222222222\n",
       "\\item 0.778472222222222\n",
       "\\item 3.81111111111111\n",
       "\\item 1.93888888888889\n",
       "\\item 4.05902777777778\n",
       "\\item 3.08680555555556\n",
       "\\item 8.53958333333333\n",
       "\\item 3.27013888888889\n",
       "\\item 1.77083333333333\n",
       "\\item 7.78333333333333\n",
       "\\item 8.73055555555556\n",
       "\\item 5.05277777777778\n",
       "\\item 8.01041666666667\n",
       "\\item 2.01527777777778\n",
       "\\item 1.75763888888889\n",
       "\\item 0.909722222222222\n",
       "\\item 1.46458333333333\n",
       "\\item 9.09722222222222\n",
       "\\item 2.72569444444444\n",
       "\\item 4.9375\n",
       "\\item 2.23402777777778\n",
       "\\item 1.59722222222222\n",
       "\\item 6.9875\n",
       "\\item 2.12986111111111\n",
       "\\item 1.57777777777778\n",
       "\\item 2.33263888888889\n",
       "\\item 6.90694444444444\n",
       "\\item 1.18611111111111\n",
       "\\item 2.7375\n",
       "\\item 1.61458333333333\n",
       "\\item 2.37083333333333\n",
       "\\item 4.0125\n",
       "\\item 1.98125\n",
       "\\item 2.78125\n",
       "\\item 2.40902777777778\n",
       "\\item 0.957638888888889\n",
       "\\item 3.68194444444444\n",
       "\\item 2.04791666666667\n",
       "\\item 1.97361111111111\n",
       "\\item 4.27083333333333\n",
       "\\item 6.07569444444444\n",
       "\\item 1.92361111111111\n",
       "\\item 1.95138888888889\n",
       "\\item 3.30208333333333\n",
       "\\item 0.811111111111111\n",
       "\\item 3.63333333333333\n",
       "\\item 2.72916666666667\n",
       "\\item 3.00694444444444\n",
       "\\item 0.897222222222222\n",
       "\\item 2.45416666666667\n",
       "\\item 3.775\n",
       "\\item 1.72013888888889\n",
       "\\item 0.880555555555556\n",
       "\\item 1.32708333333333\n",
       "\\item 2.83333333333333\n",
       "\\item 2.93819444444444\n",
       "\\item 12.8118055555556\n",
       "\\item 0.927777777777778\n",
       "\\item 1.78333333333333\n",
       "\\item 9.60555555555556\n",
       "\\item 2.9375\n",
       "\\item 3.95555555555556\n",
       "\\item 0.379166666666667\n",
       "\\item 7\n",
       "\\item 4.40208333333333\n",
       "\\item 4.86736111111111\n",
       "\\item 1.25902777777778\n",
       "\\item 10.6673611111111\n",
       "\\item 6.32361111111111\n",
       "\\item 1.83541666666667\n",
       "\\item 1.65277777777778\n",
       "\\item 6.93194444444444\n",
       "\\item 2.84444444444444\n",
       "\\item 1.32013888888889\n",
       "\\item 0.704166666666667\n",
       "\\item 10.0395833333333\n",
       "\\item 3.60416666666667\n",
       "\\item 2.14513888888889\n",
       "\\item 1.39444444444444\n",
       "\\item 1.90208333333333\n",
       "\\item 21\n",
       "\\item 7.58472222222222\n",
       "\\item 2.72222222222222\n",
       "\\item 0.969444444444444\n",
       "\\item 13.3409722222222\n",
       "\\item 5.76388888888889\n",
       "\\item 1.01041666666667\n",
       "\\item 7.95694444444444\n",
       "\\item 3.63541666666667\n",
       "\\item 5.05\n",
       "\\item 1.96111111111111\n",
       "\\item 2.94375\n",
       "\\item 2.95833333333333\n",
       "\\item 3.04861111111111\n",
       "\\item 7.10763888888889\n",
       "\\item 2.10277777777778\n",
       "\\item 3.63680555555556\n",
       "\\item 7.97430555555556\n",
       "\\item 21\n",
       "\\item 1.9375\n",
       "\\item 1.72569444444444\n",
       "\\item 5.53541666666667\n",
       "\\item 5.94375\n",
       "\\item 0.650694444444444\n",
       "\\item 2.06458333333333\n",
       "\\item 1.49027777777778\n",
       "\\item 3.45763888888889\n",
       "\\item 0.975\n",
       "\\item 1.06041666666667\n",
       "\\item 15.4208333333333\n",
       "\\item 2.81805555555556\n",
       "\\item 1.95833333333333\n",
       "\\item 4.99097222222222\n",
       "\\item 12.8222222222222\n",
       "\\item 1.67430555555556\n",
       "\\item 2.95902777777778\n",
       "\\item 0.997916666666667\n",
       "\\item 9.87777777777778\n",
       "\\item 1.87152777777778\n",
       "\\item 3.58194444444444\n",
       "\\item 2.94236111111111\n",
       "\\item 3.47013888888889\n",
       "\\item 0.930555555555556\n",
       "\\item 3.13819444444444\n",
       "\\item 0.992361111111111\n",
       "\\item 2.84236111111111\n",
       "\\item 2.05694444444444\n",
       "\\item 1.84513888888889\n",
       "\\item 2.94513888888889\n",
       "\\item 3.06736111111111\n",
       "\\item 1.86666666666667\n",
       "\\item 3.08958333333333\n",
       "\\item 6.48611111111111\n",
       "\\item 6.26736111111111\n",
       "\\item 2.02569444444444\n",
       "\\item 0.764583333333333\n",
       "\\item 3.62013888888889\n",
       "\\item 5.03888888888889\n",
       "\\item 9.12152777777778\n",
       "\\item 0.85625\n",
       "\\item 3.98472222222222\n",
       "\\item 1.95763888888889\n",
       "\\item 0.775\n",
       "\\item 2.72083333333333\n",
       "\\item 1.65069444444444\n",
       "\\item 4.76736111111111\n",
       "\\item 4.02013888888889\n",
       "\\item 5.00763888888889\n",
       "\\item 3.11458333333333\n",
       "\\item 4.09513888888889\n",
       "\\item 5.23958333333333\n",
       "\\item 1.02083333333333\n",
       "\\item 1.19444444444444\n",
       "\\item 3.70208333333333\n",
       "\\item 3.79652777777778\n",
       "\\item 1.62569444444444\n",
       "\\item 9.70138888888889\n",
       "\\item 6.68541666666667\n",
       "\\item 4.97222222222222\n",
       "\\item 0.69375\n",
       "\\item 0.34375\n",
       "\\item 2.39166666666667\n",
       "\\item 8.82847222222222\n",
       "\\item 13.0861111111111\n",
       "\\item 8.13958333333333\n",
       "\\item 0.978472222222222\n",
       "\\item 21\n",
       "\\item 0.489583333333333\n",
       "\\item 1.58333333333333\n",
       "\\item 8.11388888888889\n",
       "\\item 0.995138888888889\n",
       "\\end{enumerate*}\n"
      ],
      "text/markdown": [
       "1. 2.62152777777778\n",
       "2. 7.13541666666667\n",
       "3. 1.04652777777778\n",
       "4. 2.77083333333333\n",
       "5. 3.88472222222222\n",
       "6. 21\n",
       "7. 1.11458333333333\n",
       "8. 5.35208333333333\n",
       "9. 3.07638888888889\n",
       "10. 2.47430555555556\n",
       "11. 0.93125\n",
       "12. 2.78472222222222\n",
       "13. 1.1875\n",
       "14. 0.61875\n",
       "15. 21\n",
       "16. 0.794444444444444\n",
       "17. 20.75625\n",
       "18. 8.53611111111111\n",
       "19. 9.85763888888889\n",
       "20. 2.97152777777778\n",
       "21. 17.4708333333333\n",
       "22. 8.86319444444444\n",
       "23. 1.75347222222222\n",
       "24. 6.63888888888889\n",
       "25. 1.89722222222222\n",
       "26. 2.88680555555556\n",
       "27. 2.89305555555556\n",
       "28. 1.96597222222222\n",
       "29. 10.7131944444444\n",
       "30. 3.00972222222222\n",
       "31. 0.778472222222222\n",
       "32. 3.81111111111111\n",
       "33. 1.93888888888889\n",
       "34. 4.05902777777778\n",
       "35. 3.08680555555556\n",
       "36. 8.53958333333333\n",
       "37. 3.27013888888889\n",
       "38. 1.77083333333333\n",
       "39. 7.78333333333333\n",
       "40. 8.73055555555556\n",
       "41. 5.05277777777778\n",
       "42. 8.01041666666667\n",
       "43. 2.01527777777778\n",
       "44. 1.75763888888889\n",
       "45. 0.909722222222222\n",
       "46. 1.46458333333333\n",
       "47. 9.09722222222222\n",
       "48. 2.72569444444444\n",
       "49. 4.9375\n",
       "50. 2.23402777777778\n",
       "51. 1.59722222222222\n",
       "52. 6.9875\n",
       "53. 2.12986111111111\n",
       "54. 1.57777777777778\n",
       "55. 2.33263888888889\n",
       "56. 6.90694444444444\n",
       "57. 1.18611111111111\n",
       "58. 2.7375\n",
       "59. 1.61458333333333\n",
       "60. 2.37083333333333\n",
       "61. 4.0125\n",
       "62. 1.98125\n",
       "63. 2.78125\n",
       "64. 2.40902777777778\n",
       "65. 0.957638888888889\n",
       "66. 3.68194444444444\n",
       "67. 2.04791666666667\n",
       "68. 1.97361111111111\n",
       "69. 4.27083333333333\n",
       "70. 6.07569444444444\n",
       "71. 1.92361111111111\n",
       "72. 1.95138888888889\n",
       "73. 3.30208333333333\n",
       "74. 0.811111111111111\n",
       "75. 3.63333333333333\n",
       "76. 2.72916666666667\n",
       "77. 3.00694444444444\n",
       "78. 0.897222222222222\n",
       "79. 2.45416666666667\n",
       "80. 3.775\n",
       "81. 1.72013888888889\n",
       "82. 0.880555555555556\n",
       "83. 1.32708333333333\n",
       "84. 2.83333333333333\n",
       "85. 2.93819444444444\n",
       "86. 12.8118055555556\n",
       "87. 0.927777777777778\n",
       "88. 1.78333333333333\n",
       "89. 9.60555555555556\n",
       "90. 2.9375\n",
       "91. 3.95555555555556\n",
       "92. 0.379166666666667\n",
       "93. 7\n",
       "94. 4.40208333333333\n",
       "95. 4.86736111111111\n",
       "96. 1.25902777777778\n",
       "97. 10.6673611111111\n",
       "98. 6.32361111111111\n",
       "99. 1.83541666666667\n",
       "100. 1.65277777777778\n",
       "101. 6.93194444444444\n",
       "102. 2.84444444444444\n",
       "103. 1.32013888888889\n",
       "104. 0.704166666666667\n",
       "105. 10.0395833333333\n",
       "106. 3.60416666666667\n",
       "107. 2.14513888888889\n",
       "108. 1.39444444444444\n",
       "109. 1.90208333333333\n",
       "110. 21\n",
       "111. 7.58472222222222\n",
       "112. 2.72222222222222\n",
       "113. 0.969444444444444\n",
       "114. 13.3409722222222\n",
       "115. 5.76388888888889\n",
       "116. 1.01041666666667\n",
       "117. 7.95694444444444\n",
       "118. 3.63541666666667\n",
       "119. 5.05\n",
       "120. 1.96111111111111\n",
       "121. 2.94375\n",
       "122. 2.95833333333333\n",
       "123. 3.04861111111111\n",
       "124. 7.10763888888889\n",
       "125. 2.10277777777778\n",
       "126. 3.63680555555556\n",
       "127. 7.97430555555556\n",
       "128. 21\n",
       "129. 1.9375\n",
       "130. 1.72569444444444\n",
       "131. 5.53541666666667\n",
       "132. 5.94375\n",
       "133. 0.650694444444444\n",
       "134. 2.06458333333333\n",
       "135. 1.49027777777778\n",
       "136. 3.45763888888889\n",
       "137. 0.975\n",
       "138. 1.06041666666667\n",
       "139. 15.4208333333333\n",
       "140. 2.81805555555556\n",
       "141. 1.95833333333333\n",
       "142. 4.99097222222222\n",
       "143. 12.8222222222222\n",
       "144. 1.67430555555556\n",
       "145. 2.95902777777778\n",
       "146. 0.997916666666667\n",
       "147. 9.87777777777778\n",
       "148. 1.87152777777778\n",
       "149. 3.58194444444444\n",
       "150. 2.94236111111111\n",
       "151. 3.47013888888889\n",
       "152. 0.930555555555556\n",
       "153. 3.13819444444444\n",
       "154. 0.992361111111111\n",
       "155. 2.84236111111111\n",
       "156. 2.05694444444444\n",
       "157. 1.84513888888889\n",
       "158. 2.94513888888889\n",
       "159. 3.06736111111111\n",
       "160. 1.86666666666667\n",
       "161. 3.08958333333333\n",
       "162. 6.48611111111111\n",
       "163. 6.26736111111111\n",
       "164. 2.02569444444444\n",
       "165. 0.764583333333333\n",
       "166. 3.62013888888889\n",
       "167. 5.03888888888889\n",
       "168. 9.12152777777778\n",
       "169. 0.85625\n",
       "170. 3.98472222222222\n",
       "171. 1.95763888888889\n",
       "172. 0.775\n",
       "173. 2.72083333333333\n",
       "174. 1.65069444444444\n",
       "175. 4.76736111111111\n",
       "176. 4.02013888888889\n",
       "177. 5.00763888888889\n",
       "178. 3.11458333333333\n",
       "179. 4.09513888888889\n",
       "180. 5.23958333333333\n",
       "181. 1.02083333333333\n",
       "182. 1.19444444444444\n",
       "183. 3.70208333333333\n",
       "184. 3.79652777777778\n",
       "185. 1.62569444444444\n",
       "186. 9.70138888888889\n",
       "187. 6.68541666666667\n",
       "188. 4.97222222222222\n",
       "189. 0.69375\n",
       "190. 0.34375\n",
       "191. 2.39166666666667\n",
       "192. 8.82847222222222\n",
       "193. 13.0861111111111\n",
       "194. 8.13958333333333\n",
       "195. 0.978472222222222\n",
       "196. 21\n",
       "197. 0.489583333333333\n",
       "198. 1.58333333333333\n",
       "199. 8.11388888888889\n",
       "200. 0.995138888888889\n",
       "\n",
       "\n"
      ],
      "text/plain": [
       "  [1]  2.6215278  7.1354167  1.0465278  2.7708333  3.8847222 21.0000000\n",
       "  [7]  1.1145833  5.3520833  3.0763889  2.4743056  0.9312500  2.7847222\n",
       " [13]  1.1875000  0.6187500 21.0000000  0.7944444 20.7562500  8.5361111\n",
       " [19]  9.8576389  2.9715278 17.4708333  8.8631944  1.7534722  6.6388889\n",
       " [25]  1.8972222  2.8868056  2.8930556  1.9659722 10.7131944  3.0097222\n",
       " [31]  0.7784722  3.8111111  1.9388889  4.0590278  3.0868056  8.5395833\n",
       " [37]  3.2701389  1.7708333  7.7833333  8.7305556  5.0527778  8.0104167\n",
       " [43]  2.0152778  1.7576389  0.9097222  1.4645833  9.0972222  2.7256944\n",
       " [49]  4.9375000  2.2340278  1.5972222  6.9875000  2.1298611  1.5777778\n",
       " [55]  2.3326389  6.9069444  1.1861111  2.7375000  1.6145833  2.3708333\n",
       " [61]  4.0125000  1.9812500  2.7812500  2.4090278  0.9576389  3.6819444\n",
       " [67]  2.0479167  1.9736111  4.2708333  6.0756944  1.9236111  1.9513889\n",
       " [73]  3.3020833  0.8111111  3.6333333  2.7291667  3.0069444  0.8972222\n",
       " [79]  2.4541667  3.7750000  1.7201389  0.8805556  1.3270833  2.8333333\n",
       " [85]  2.9381944 12.8118056  0.9277778  1.7833333  9.6055556  2.9375000\n",
       " [91]  3.9555556  0.3791667  7.0000000  4.4020833  4.8673611  1.2590278\n",
       " [97] 10.6673611  6.3236111  1.8354167  1.6527778  6.9319444  2.8444444\n",
       "[103]  1.3201389  0.7041667 10.0395833  3.6041667  2.1451389  1.3944444\n",
       "[109]  1.9020833 21.0000000  7.5847222  2.7222222  0.9694444 13.3409722\n",
       "[115]  5.7638889  1.0104167  7.9569444  3.6354167  5.0500000  1.9611111\n",
       "[121]  2.9437500  2.9583333  3.0486111  7.1076389  2.1027778  3.6368056\n",
       "[127]  7.9743056 21.0000000  1.9375000  1.7256944  5.5354167  5.9437500\n",
       "[133]  0.6506944  2.0645833  1.4902778  3.4576389  0.9750000  1.0604167\n",
       "[139] 15.4208333  2.8180556  1.9583333  4.9909722 12.8222222  1.6743056\n",
       "[145]  2.9590278  0.9979167  9.8777778  1.8715278  3.5819444  2.9423611\n",
       "[151]  3.4701389  0.9305556  3.1381944  0.9923611  2.8423611  2.0569444\n",
       "[157]  1.8451389  2.9451389  3.0673611  1.8666667  3.0895833  6.4861111\n",
       "[163]  6.2673611  2.0256944  0.7645833  3.6201389  5.0388889  9.1215278\n",
       "[169]  0.8562500  3.9847222  1.9576389  0.7750000  2.7208333  1.6506944\n",
       "[175]  4.7673611  4.0201389  5.0076389  3.1145833  4.0951389  5.2395833\n",
       "[181]  1.0208333  1.1944444  3.7020833  3.7965278  1.6256944  9.7013889\n",
       "[187]  6.6854167  4.9722222  0.6937500  0.3437500  2.3916667  8.8284722\n",
       "[193] 13.0861111  8.1395833  0.9784722 21.0000000  0.4895833  1.5833333\n",
       "[199]  8.1138889  0.9951389"
      ]
     },
     "metadata": {},
     "output_type": "display_data"
    }
   ],
   "source": [
    "testing$UnitLengthStay_trunc"
   ]
  },
  {
   "cell_type": "code",
   "execution_count": 51,
   "id": "9b58000f-530c-4f07-ba52-582005bdc343",
   "metadata": {},
   "outputs": [
    {
     "name": "stdout",
     "output_type": "stream",
     "text": [
      "RMSE: 0.06773893 \n",
      "MAE: 0.02725363 \n",
      "R2: 0.9997469 \n"
     ]
    }
   ],
   "source": [
    "rmse <- RMSE(predictions$pred, testing$UnitLengthStay_trunc)\n",
    "MAE <- MAE(predictions$pred, testing$UnitLengthStay_trunc)\n",
    "R2 <- R2(predictions$pred, testing$UnitLengthStay_trunc)\n",
    "cat(\"RMSE:\", rmse, \"\\n\")\n",
    "cat(\"MAE:\", MAE, \"\\n\")\n",
    "cat(\"R2:\", R2, \"\\n\")"
   ]
  }
 ],
 "metadata": {
  "kernelspec": {
   "display_name": "R",
   "language": "R",
   "name": "ir"
  },
  "language_info": {
   "codemirror_mode": "r",
   "file_extension": ".r",
   "mimetype": "text/x-r-source",
   "name": "R",
   "pygments_lexer": "r",
   "version": "4.4.1"
  }
 },
 "nbformat": 4,
 "nbformat_minor": 5
}
